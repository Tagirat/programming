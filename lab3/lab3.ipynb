{
 "cells": [
  {
   "cell_type": "markdown",
   "metadata": {},
   "source": [
    "# ЛР №3 по курсу \"Распознавание образов и классическое машинное обучение\"\n",
    "\n",
    "## Метод Главных Компонент (МГК)."
   ]
  },
  {
   "cell_type": "code",
   "execution_count": 2,
   "metadata": {
    "id": "KDKnYuLeiCZy"
   },
   "outputs": [],
   "source": [
    "import numpy as np\n",
    "import pandas as pd\n",
    "from sklearn.preprocessing import StandardScaler\n",
    "from sklearn.decomposition import PCA\n",
    "from scipy.linalg import svd\n",
    "import matplotlib.pyplot as plt"
   ]
  },
  {
   "cell_type": "markdown",
   "metadata": {},
   "source": [
    "Дано 2 матрицы:"
   ]
  },
  {
   "cell_type": "code",
   "execution_count": 4,
   "metadata": {
    "colab": {
     "base_uri": "https://localhost:8080/",
     "height": 331
    },
    "executionInfo": {
     "elapsed": 306,
     "status": "ok",
     "timestamp": 1652549133131,
     "user": {
      "displayName": "Data Analisis",
      "userId": "16579608949656959396"
     },
     "user_tz": -180
    },
    "id": "oJsY_gxnl1RK",
    "outputId": "b6042bd4-e5d1-4d49-d004-148a0439d359"
   },
   "outputs": [
    {
     "data": {
      "text/html": [
       "<div>\n",
       "<style scoped>\n",
       "    .dataframe tbody tr th:only-of-type {\n",
       "        vertical-align: middle;\n",
       "    }\n",
       "\n",
       "    .dataframe tbody tr th {\n",
       "        vertical-align: top;\n",
       "    }\n",
       "\n",
       "    .dataframe thead th {\n",
       "        text-align: right;\n",
       "    }\n",
       "</style>\n",
       "<table border=\"1\" class=\"dataframe\">\n",
       "  <thead>\n",
       "    <tr style=\"text-align: right;\">\n",
       "      <th></th>\n",
       "      <th>x1</th>\n",
       "      <th>x2</th>\n",
       "      <th>x3</th>\n",
       "      <th>x4</th>\n",
       "    </tr>\n",
       "  </thead>\n",
       "  <tbody>\n",
       "    <tr>\n",
       "      <th>0</th>\n",
       "      <td>1.0</td>\n",
       "      <td>2.0</td>\n",
       "      <td>6.0</td>\n",
       "      <td>7.0</td>\n",
       "    </tr>\n",
       "    <tr>\n",
       "      <th>1</th>\n",
       "      <td>4.5</td>\n",
       "      <td>4.0</td>\n",
       "      <td>7.0</td>\n",
       "      <td>8.9</td>\n",
       "    </tr>\n",
       "    <tr>\n",
       "      <th>2</th>\n",
       "      <td>1.3</td>\n",
       "      <td>4.5</td>\n",
       "      <td>6.0</td>\n",
       "      <td>8.0</td>\n",
       "    </tr>\n",
       "    <tr>\n",
       "      <th>3</th>\n",
       "      <td>1.3</td>\n",
       "      <td>5.0</td>\n",
       "      <td>7.0</td>\n",
       "      <td>8.0</td>\n",
       "    </tr>\n",
       "    <tr>\n",
       "      <th>4</th>\n",
       "      <td>1.0</td>\n",
       "      <td>2.5</td>\n",
       "      <td>8.9</td>\n",
       "      <td>5.5</td>\n",
       "    </tr>\n",
       "    <tr>\n",
       "      <th>5</th>\n",
       "      <td>6.7</td>\n",
       "      <td>4.5</td>\n",
       "      <td>3.7</td>\n",
       "      <td>8.0</td>\n",
       "    </tr>\n",
       "    <tr>\n",
       "      <th>6</th>\n",
       "      <td>3.6</td>\n",
       "      <td>8.0</td>\n",
       "      <td>1.2</td>\n",
       "      <td>3.4</td>\n",
       "    </tr>\n",
       "    <tr>\n",
       "      <th>7</th>\n",
       "      <td>7.7</td>\n",
       "      <td>7.8</td>\n",
       "      <td>3.0</td>\n",
       "      <td>3.0</td>\n",
       "    </tr>\n",
       "    <tr>\n",
       "      <th>8</th>\n",
       "      <td>4.6</td>\n",
       "      <td>3.7</td>\n",
       "      <td>2.5</td>\n",
       "      <td>2.0</td>\n",
       "    </tr>\n",
       "  </tbody>\n",
       "</table>\n",
       "</div>"
      ],
      "text/plain": [
       "    x1   x2   x3   x4\n",
       "0  1.0  2.0  6.0  7.0\n",
       "1  4.5  4.0  7.0  8.9\n",
       "2  1.3  4.5  6.0  8.0\n",
       "3  1.3  5.0  7.0  8.0\n",
       "4  1.0  2.5  8.9  5.5\n",
       "5  6.7  4.5  3.7  8.0\n",
       "6  3.6  8.0  1.2  3.4\n",
       "7  7.7  7.8  3.0  3.0\n",
       "8  4.6  3.7  2.5  2.0"
      ]
     },
     "execution_count": 4,
     "metadata": {},
     "output_type": "execute_result"
    }
   ],
   "source": [
    "M1=np.array([[1,2,6,7],\n",
    "             [4.5,4,7,8.9],\n",
    "             [1.3,4.5,6,8],\n",
    "             [1.3,5,7,8],\n",
    "             [1,2.5,8.9,5.5],\n",
    "             [6.7,4.5,3.7,8],\n",
    "             [3.6,8,1.2,3.4],\n",
    "             [7.7,7.8,3,3],\n",
    "             [4.6,3.7,2.5,2]])\n",
    "df1=pd.DataFrame(M1,columns=['x1','x2','x3','x4'])\n",
    "df1"
   ]
  },
  {
   "cell_type": "code",
   "execution_count": 5,
   "metadata": {
    "colab": {
     "base_uri": "https://localhost:8080/",
     "height": 174
    },
    "executionInfo": {
     "elapsed": 21,
     "status": "ok",
     "timestamp": 1652549171308,
     "user": {
      "displayName": "Data Analisis",
      "userId": "16579608949656959396"
     },
     "user_tz": -180
    },
    "id": "TfG_X-aPlLqk",
    "outputId": "4c302234-aa6b-467f-dd33-6c07b4d49199"
   },
   "outputs": [
    {
     "data": {
      "text/html": [
       "<div>\n",
       "<style scoped>\n",
       "    .dataframe tbody tr th:only-of-type {\n",
       "        vertical-align: middle;\n",
       "    }\n",
       "\n",
       "    .dataframe tbody tr th {\n",
       "        vertical-align: top;\n",
       "    }\n",
       "\n",
       "    .dataframe thead th {\n",
       "        text-align: right;\n",
       "    }\n",
       "</style>\n",
       "<table border=\"1\" class=\"dataframe\">\n",
       "  <thead>\n",
       "    <tr style=\"text-align: right;\">\n",
       "      <th></th>\n",
       "      <th>x1</th>\n",
       "      <th>x2</th>\n",
       "      <th>x3</th>\n",
       "      <th>x4</th>\n",
       "      <th>x5</th>\n",
       "      <th>x6</th>\n",
       "      <th>x7</th>\n",
       "      <th>x8</th>\n",
       "      <th>x9</th>\n",
       "    </tr>\n",
       "  </thead>\n",
       "  <tbody>\n",
       "    <tr>\n",
       "      <th>0</th>\n",
       "      <td>1.0</td>\n",
       "      <td>3.5</td>\n",
       "      <td>5.6</td>\n",
       "      <td>7.0</td>\n",
       "      <td>8.0</td>\n",
       "      <td>1.0</td>\n",
       "      <td>2.0</td>\n",
       "      <td>3.0</td>\n",
       "      <td>4.0</td>\n",
       "    </tr>\n",
       "    <tr>\n",
       "      <th>1</th>\n",
       "      <td>5.5</td>\n",
       "      <td>6.4</td>\n",
       "      <td>1.3</td>\n",
       "      <td>3.0</td>\n",
       "      <td>4.0</td>\n",
       "      <td>7.8</td>\n",
       "      <td>4.5</td>\n",
       "      <td>2.0</td>\n",
       "      <td>9.0</td>\n",
       "    </tr>\n",
       "    <tr>\n",
       "      <th>2</th>\n",
       "      <td>5.4</td>\n",
       "      <td>4.7</td>\n",
       "      <td>4.8</td>\n",
       "      <td>3.8</td>\n",
       "      <td>2.0</td>\n",
       "      <td>2.0</td>\n",
       "      <td>7.0</td>\n",
       "      <td>8.9</td>\n",
       "      <td>9.0</td>\n",
       "    </tr>\n",
       "    <tr>\n",
       "      <th>3</th>\n",
       "      <td>1.0</td>\n",
       "      <td>3.0</td>\n",
       "      <td>4.0</td>\n",
       "      <td>6.0</td>\n",
       "      <td>7.7</td>\n",
       "      <td>4.7</td>\n",
       "      <td>5.6</td>\n",
       "      <td>9.0</td>\n",
       "      <td>2.0</td>\n",
       "    </tr>\n",
       "  </tbody>\n",
       "</table>\n",
       "</div>"
      ],
      "text/plain": [
       "    x1   x2   x3   x4   x5   x6   x7   x8   x9\n",
       "0  1.0  3.5  5.6  7.0  8.0  1.0  2.0  3.0  4.0\n",
       "1  5.5  6.4  1.3  3.0  4.0  7.8  4.5  2.0  9.0\n",
       "2  5.4  4.7  4.8  3.8  2.0  2.0  7.0  8.9  9.0\n",
       "3  1.0  3.0  4.0  6.0  7.7  4.7  5.6  9.0  2.0"
      ]
     },
     "execution_count": 5,
     "metadata": {},
     "output_type": "execute_result"
    }
   ],
   "source": [
    "M2=np.array([[1,3.5,5.6,7,8,1,2,3,4],\n",
    "             [5.5,6.4,1.3,3,4,7.8,4.5,2,9],\n",
    "             [5.4,4.7,4.8,3.8,2,2,7,8.9,9],\n",
    "             [1,3,4,6,7.7,4.7,5.6,9,2]])\n",
    "\n",
    "df2=pd.DataFrame(M2,columns=['x1','x2','x3','x4','x5','x6','x7','x8','x9'])\n",
    "df2"
   ]
  },
  {
   "cell_type": "markdown",
   "metadata": {
    "id": "R_4yJk87oSIR"
   },
   "source": [
    "# 1. Реализовать МГК по шагам\n",
    "\n",
    "\n"
   ]
  },
  {
   "cell_type": "markdown",
   "metadata": {
    "id": "Y0YwEngaBnZW"
   },
   "source": [
    "![1.PNG](data:image/png;base64,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)"
   ]
  },
  {
   "cell_type": "markdown",
   "metadata": {
    "id": "I_qzOLbFBnZb"
   },
   "source": [
    "![2.PNG](data:image/png;base64,iVBORw0KGgoAAAANSUhEUgAAAHQAAAA0CAYAAABbwhxLAAAAAXNSR0IArs4c6QAAAARnQU1BAACxjwv8YQUAAAAJcEhZcwAADsMAAA7DAcdvqGQAAAKwSURBVHhe7ZcBrfIwGEWRgAYkoAEJaEACHpCABiSgAQloQMJeDtn3p2m6Ad2g+2/uSZbHyrbX2/O1HavOSGGhYlioGBYqhoWKYaFiWKgYFiqGhYphoWJYqBgWKoaFimGhYlioGBYqhoWKYaFiWKgYFirGfyX0fD73n9rweDyefbjf733LNL6Rp1oondnv991qtXoel8ul/2aY0+n0vHa9Xne73e6te1K453a79WdtIDcZrtdr31LPN/JMnqEh9Xg89i1l6HhcOzQYzIDtdtttNpviwb183xr6goxXtMgzSShLDxXLjEPWGOmMroHZ/ep//IpYaRBWy7fyTBKKJKRSrWOVxnWEj6W2hjmWuLkgM0KRUsu38kwSejgc/v1FVgnC0/k5BmFJxFK6NGYRGktQiRAYLxNDLwHMYK7lYCmKQuCc/TmesxSWmqdaKB0kFPC2WgpHe+wzY/sn16QvVTyX6o/QfH7n5YFncN0nRxTlp9Bn8pReBufKU0O1UDqJVIjlNP0ZQqj0fGz/JHyIB855XrTxnPhfS4HiJVNpq2mZp1poXtl0OF1G0s8hfGiZScMD1Vv78vQLkEn/EEOu/AWnZZ7ZhFKp0ZZX4Kv9JmdMfmvIgKCQRu5XPz9+madKKLJi/wwIGUHz7whcWppKMGAl+XnVl2BpY3/65HglI4WZSI60WCli+jvElDw1VAlN98+AYIQtVSLtY0sOMzoCcn8+QLR9awDeJWTmYkIYGYKWeaqEUtk50fGhwHxfgoFKBwTx6QCUVoNfk/cxh/GIgm2d5yOhsXTSQUKkkgiQnxMmvZ7788rknHbu5eCcvyyfBG8tE8iRZsshKxmR1TpP1Qw1y8VCxbBQMSxUDAsVw0LFsFAxLFQMCxXDQsWwUDEsVAwLFcNCxbBQMSxUDAuVouv+AGrzsFJFrQD+AAAAAElFTkSuQmCC)"
   ]
  },
  {
   "cell_type": "markdown",
   "metadata": {
    "id": "9bm8w1P9q9lt"
   },
   "source": [
    "  Шаг 1. Подготовка данных: стандартизация \"вручную\" (по формуле) и с использованием StandardScaler, сравнить результаты\n",
    "\n",
    "  Шаг 2. Построить матрицу ковариации \"вручную\" (по формуле) и с использованием numpy, сравнить результаты, объяснить, что значат элементы матрицы\n",
    "\n",
    "  Шаг 3. Найти собственные вектора и собственные значения с использованием numpy.linalg\n",
    "\n",
    "  Шаг 4. Найти главные компонеты по формуле, чему равно количество гланвых компонет?\n",
    "\n",
    "  Шаг 5. Построить кумулятивный график суммы ообъясненной дисперсии, какое количество главных объясняет 90% диспресии?\n",
    "  \n",
    "  Шаг 6. Восстановить исходные данные из всего набор главных и из набора на предыдущем шаге, объяснить полученный результат."
   ]
  },
  {
   "cell_type": "code",
   "execution_count": 6,
   "metadata": {},
   "outputs": [],
   "source": [
    "\n",
    "M1_st = (M1 - M1.mean(axis = 0))/M1.std(axis = 0)\n",
    "M2_st = (M2 - M2.mean(axis = 0))/M2.std(axis = 0)\n"
   ]
  },
  {
   "cell_type": "code",
   "execution_count": 7,
   "metadata": {},
   "outputs": [
    {
     "data": {
      "text/html": [
       "<div>\n",
       "<style scoped>\n",
       "    .dataframe tbody tr th:only-of-type {\n",
       "        vertical-align: middle;\n",
       "    }\n",
       "\n",
       "    .dataframe tbody tr th {\n",
       "        vertical-align: top;\n",
       "    }\n",
       "\n",
       "    .dataframe thead th {\n",
       "        text-align: right;\n",
       "    }\n",
       "</style>\n",
       "<table border=\"1\" class=\"dataframe\">\n",
       "  <thead>\n",
       "    <tr style=\"text-align: right;\">\n",
       "      <th></th>\n",
       "      <th>0</th>\n",
       "      <th>1</th>\n",
       "      <th>2</th>\n",
       "      <th>3</th>\n",
       "    </tr>\n",
       "  </thead>\n",
       "  <tbody>\n",
       "    <tr>\n",
       "      <th>0</th>\n",
       "      <td>-1.046539</td>\n",
       "      <td>-1.366374</td>\n",
       "      <td>0.403792</td>\n",
       "      <td>0.419597</td>\n",
       "    </tr>\n",
       "    <tr>\n",
       "      <th>1</th>\n",
       "      <td>0.405707</td>\n",
       "      <td>-0.341593</td>\n",
       "      <td>0.821507</td>\n",
       "      <td>1.199501</td>\n",
       "    </tr>\n",
       "    <tr>\n",
       "      <th>2</th>\n",
       "      <td>-0.922060</td>\n",
       "      <td>-0.085398</td>\n",
       "      <td>0.403792</td>\n",
       "      <td>0.830073</td>\n",
       "    </tr>\n",
       "    <tr>\n",
       "      <th>3</th>\n",
       "      <td>-0.922060</td>\n",
       "      <td>0.170797</td>\n",
       "      <td>0.821507</td>\n",
       "      <td>0.830073</td>\n",
       "    </tr>\n",
       "    <tr>\n",
       "      <th>4</th>\n",
       "      <td>-1.046539</td>\n",
       "      <td>-1.110179</td>\n",
       "      <td>1.615167</td>\n",
       "      <td>-0.196116</td>\n",
       "    </tr>\n",
       "    <tr>\n",
       "      <th>5</th>\n",
       "      <td>1.318546</td>\n",
       "      <td>-0.085398</td>\n",
       "      <td>-0.556954</td>\n",
       "      <td>0.830073</td>\n",
       "    </tr>\n",
       "    <tr>\n",
       "      <th>6</th>\n",
       "      <td>0.032272</td>\n",
       "      <td>1.707967</td>\n",
       "      <td>-1.601243</td>\n",
       "      <td>-1.058115</td>\n",
       "    </tr>\n",
       "    <tr>\n",
       "      <th>7</th>\n",
       "      <td>1.733474</td>\n",
       "      <td>1.605489</td>\n",
       "      <td>-0.849355</td>\n",
       "      <td>-1.222305</td>\n",
       "    </tr>\n",
       "    <tr>\n",
       "      <th>8</th>\n",
       "      <td>0.447199</td>\n",
       "      <td>-0.495311</td>\n",
       "      <td>-1.058213</td>\n",
       "      <td>-1.632781</td>\n",
       "    </tr>\n",
       "  </tbody>\n",
       "</table>\n",
       "</div>"
      ],
      "text/plain": [
       "          0         1         2         3\n",
       "0 -1.046539 -1.366374  0.403792  0.419597\n",
       "1  0.405707 -0.341593  0.821507  1.199501\n",
       "2 -0.922060 -0.085398  0.403792  0.830073\n",
       "3 -0.922060  0.170797  0.821507  0.830073\n",
       "4 -1.046539 -1.110179  1.615167 -0.196116\n",
       "5  1.318546 -0.085398 -0.556954  0.830073\n",
       "6  0.032272  1.707967 -1.601243 -1.058115\n",
       "7  1.733474  1.605489 -0.849355 -1.222305\n",
       "8  0.447199 -0.495311 -1.058213 -1.632781"
      ]
     },
     "execution_count": 7,
     "metadata": {},
     "output_type": "execute_result"
    }
   ],
   "source": [
    "pd.DataFrame(M1_st)"
   ]
  },
  {
   "cell_type": "code",
   "execution_count": 8,
   "metadata": {},
   "outputs": [
    {
     "data": {
      "text/html": [
       "<div>\n",
       "<style scoped>\n",
       "    .dataframe tbody tr th:only-of-type {\n",
       "        vertical-align: middle;\n",
       "    }\n",
       "\n",
       "    .dataframe tbody tr th {\n",
       "        vertical-align: top;\n",
       "    }\n",
       "\n",
       "    .dataframe thead th {\n",
       "        text-align: right;\n",
       "    }\n",
       "</style>\n",
       "<table border=\"1\" class=\"dataframe\">\n",
       "  <thead>\n",
       "    <tr style=\"text-align: right;\">\n",
       "      <th></th>\n",
       "      <th>0</th>\n",
       "      <th>1</th>\n",
       "      <th>2</th>\n",
       "      <th>3</th>\n",
       "      <th>4</th>\n",
       "      <th>5</th>\n",
       "      <th>6</th>\n",
       "      <th>7</th>\n",
       "      <th>8</th>\n",
       "    </tr>\n",
       "  </thead>\n",
       "  <tbody>\n",
       "    <tr>\n",
       "      <th>0</th>\n",
       "      <td>-0.999874</td>\n",
       "      <td>-0.687243</td>\n",
       "      <td>1.035436</td>\n",
       "      <td>1.269526</td>\n",
       "      <td>1.018505</td>\n",
       "      <td>-1.089228</td>\n",
       "      <td>-1.515720</td>\n",
       "      <td>-0.839879</td>\n",
       "      <td>-0.648886</td>\n",
       "    </tr>\n",
       "    <tr>\n",
       "      <th>1</th>\n",
       "      <td>1.022343</td>\n",
       "      <td>1.527207</td>\n",
       "      <td>-1.622698</td>\n",
       "      <td>-1.207598</td>\n",
       "      <td>-0.563639</td>\n",
       "      <td>1.487033</td>\n",
       "      <td>-0.150207</td>\n",
       "      <td>-1.148092</td>\n",
       "      <td>0.973329</td>\n",
       "    </tr>\n",
       "    <tr>\n",
       "      <th>2</th>\n",
       "      <td>0.977405</td>\n",
       "      <td>0.229081</td>\n",
       "      <td>0.540899</td>\n",
       "      <td>-0.712173</td>\n",
       "      <td>-1.354710</td>\n",
       "      <td>-0.710366</td>\n",
       "      <td>1.215307</td>\n",
       "      <td>0.978575</td>\n",
       "      <td>0.973329</td>\n",
       "    </tr>\n",
       "    <tr>\n",
       "      <th>3</th>\n",
       "      <td>-0.999874</td>\n",
       "      <td>-1.069045</td>\n",
       "      <td>0.046363</td>\n",
       "      <td>0.650245</td>\n",
       "      <td>0.899844</td>\n",
       "      <td>0.312561</td>\n",
       "      <td>0.450620</td>\n",
       "      <td>1.009396</td>\n",
       "      <td>-1.297771</td>\n",
       "    </tr>\n",
       "  </tbody>\n",
       "</table>\n",
       "</div>"
      ],
      "text/plain": [
       "          0         1         2         3         4         5         6  \\\n",
       "0 -0.999874 -0.687243  1.035436  1.269526  1.018505 -1.089228 -1.515720   \n",
       "1  1.022343  1.527207 -1.622698 -1.207598 -0.563639  1.487033 -0.150207   \n",
       "2  0.977405  0.229081  0.540899 -0.712173 -1.354710 -0.710366  1.215307   \n",
       "3 -0.999874 -1.069045  0.046363  0.650245  0.899844  0.312561  0.450620   \n",
       "\n",
       "          7         8  \n",
       "0 -0.839879 -0.648886  \n",
       "1 -1.148092  0.973329  \n",
       "2  0.978575  0.973329  \n",
       "3  1.009396 -1.297771  "
      ]
     },
     "execution_count": 8,
     "metadata": {},
     "output_type": "execute_result"
    }
   ],
   "source": [
    "pd.DataFrame(M2_st)"
   ]
  },
  {
   "cell_type": "code",
   "execution_count": 9,
   "metadata": {},
   "outputs": [
    {
     "data": {
      "text/html": [
       "<div>\n",
       "<style scoped>\n",
       "    .dataframe tbody tr th:only-of-type {\n",
       "        vertical-align: middle;\n",
       "    }\n",
       "\n",
       "    .dataframe tbody tr th {\n",
       "        vertical-align: top;\n",
       "    }\n",
       "\n",
       "    .dataframe thead th {\n",
       "        text-align: right;\n",
       "    }\n",
       "</style>\n",
       "<table border=\"1\" class=\"dataframe\">\n",
       "  <thead>\n",
       "    <tr style=\"text-align: right;\">\n",
       "      <th></th>\n",
       "      <th>0</th>\n",
       "      <th>1</th>\n",
       "      <th>2</th>\n",
       "      <th>3</th>\n",
       "    </tr>\n",
       "  </thead>\n",
       "  <tbody>\n",
       "    <tr>\n",
       "      <th>0</th>\n",
       "      <td>-1.046539</td>\n",
       "      <td>-1.366374</td>\n",
       "      <td>0.403792</td>\n",
       "      <td>0.419597</td>\n",
       "    </tr>\n",
       "    <tr>\n",
       "      <th>1</th>\n",
       "      <td>0.405707</td>\n",
       "      <td>-0.341593</td>\n",
       "      <td>0.821507</td>\n",
       "      <td>1.199501</td>\n",
       "    </tr>\n",
       "    <tr>\n",
       "      <th>2</th>\n",
       "      <td>-0.922060</td>\n",
       "      <td>-0.085398</td>\n",
       "      <td>0.403792</td>\n",
       "      <td>0.830073</td>\n",
       "    </tr>\n",
       "    <tr>\n",
       "      <th>3</th>\n",
       "      <td>-0.922060</td>\n",
       "      <td>0.170797</td>\n",
       "      <td>0.821507</td>\n",
       "      <td>0.830073</td>\n",
       "    </tr>\n",
       "    <tr>\n",
       "      <th>4</th>\n",
       "      <td>-1.046539</td>\n",
       "      <td>-1.110179</td>\n",
       "      <td>1.615167</td>\n",
       "      <td>-0.196116</td>\n",
       "    </tr>\n",
       "    <tr>\n",
       "      <th>5</th>\n",
       "      <td>1.318546</td>\n",
       "      <td>-0.085398</td>\n",
       "      <td>-0.556954</td>\n",
       "      <td>0.830073</td>\n",
       "    </tr>\n",
       "    <tr>\n",
       "      <th>6</th>\n",
       "      <td>0.032272</td>\n",
       "      <td>1.707967</td>\n",
       "      <td>-1.601243</td>\n",
       "      <td>-1.058115</td>\n",
       "    </tr>\n",
       "    <tr>\n",
       "      <th>7</th>\n",
       "      <td>1.733474</td>\n",
       "      <td>1.605489</td>\n",
       "      <td>-0.849355</td>\n",
       "      <td>-1.222305</td>\n",
       "    </tr>\n",
       "    <tr>\n",
       "      <th>8</th>\n",
       "      <td>0.447199</td>\n",
       "      <td>-0.495311</td>\n",
       "      <td>-1.058213</td>\n",
       "      <td>-1.632781</td>\n",
       "    </tr>\n",
       "  </tbody>\n",
       "</table>\n",
       "</div>"
      ],
      "text/plain": [
       "          0         1         2         3\n",
       "0 -1.046539 -1.366374  0.403792  0.419597\n",
       "1  0.405707 -0.341593  0.821507  1.199501\n",
       "2 -0.922060 -0.085398  0.403792  0.830073\n",
       "3 -0.922060  0.170797  0.821507  0.830073\n",
       "4 -1.046539 -1.110179  1.615167 -0.196116\n",
       "5  1.318546 -0.085398 -0.556954  0.830073\n",
       "6  0.032272  1.707967 -1.601243 -1.058115\n",
       "7  1.733474  1.605489 -0.849355 -1.222305\n",
       "8  0.447199 -0.495311 -1.058213 -1.632781"
      ]
     },
     "execution_count": 9,
     "metadata": {},
     "output_type": "execute_result"
    }
   ],
   "source": [
    "X_scaled_1 = StandardScaler().fit_transform(df1)\n",
    "pd.DataFrame(X_scaled_1)"
   ]
  },
  {
   "cell_type": "code",
   "execution_count": 10,
   "metadata": {},
   "outputs": [
    {
     "data": {
      "text/html": [
       "<div>\n",
       "<style scoped>\n",
       "    .dataframe tbody tr th:only-of-type {\n",
       "        vertical-align: middle;\n",
       "    }\n",
       "\n",
       "    .dataframe tbody tr th {\n",
       "        vertical-align: top;\n",
       "    }\n",
       "\n",
       "    .dataframe thead th {\n",
       "        text-align: right;\n",
       "    }\n",
       "</style>\n",
       "<table border=\"1\" class=\"dataframe\">\n",
       "  <thead>\n",
       "    <tr style=\"text-align: right;\">\n",
       "      <th></th>\n",
       "      <th>0</th>\n",
       "      <th>1</th>\n",
       "      <th>2</th>\n",
       "      <th>3</th>\n",
       "      <th>4</th>\n",
       "      <th>5</th>\n",
       "      <th>6</th>\n",
       "      <th>7</th>\n",
       "      <th>8</th>\n",
       "    </tr>\n",
       "  </thead>\n",
       "  <tbody>\n",
       "    <tr>\n",
       "      <th>0</th>\n",
       "      <td>-0.999874</td>\n",
       "      <td>-0.687243</td>\n",
       "      <td>1.035436</td>\n",
       "      <td>1.269526</td>\n",
       "      <td>1.018505</td>\n",
       "      <td>-1.089228</td>\n",
       "      <td>-1.515720</td>\n",
       "      <td>-0.839879</td>\n",
       "      <td>-0.648886</td>\n",
       "    </tr>\n",
       "    <tr>\n",
       "      <th>1</th>\n",
       "      <td>1.022343</td>\n",
       "      <td>1.527207</td>\n",
       "      <td>-1.622698</td>\n",
       "      <td>-1.207598</td>\n",
       "      <td>-0.563639</td>\n",
       "      <td>1.487033</td>\n",
       "      <td>-0.150207</td>\n",
       "      <td>-1.148092</td>\n",
       "      <td>0.973329</td>\n",
       "    </tr>\n",
       "    <tr>\n",
       "      <th>2</th>\n",
       "      <td>0.977405</td>\n",
       "      <td>0.229081</td>\n",
       "      <td>0.540899</td>\n",
       "      <td>-0.712173</td>\n",
       "      <td>-1.354710</td>\n",
       "      <td>-0.710366</td>\n",
       "      <td>1.215307</td>\n",
       "      <td>0.978575</td>\n",
       "      <td>0.973329</td>\n",
       "    </tr>\n",
       "    <tr>\n",
       "      <th>3</th>\n",
       "      <td>-0.999874</td>\n",
       "      <td>-1.069045</td>\n",
       "      <td>0.046363</td>\n",
       "      <td>0.650245</td>\n",
       "      <td>0.899844</td>\n",
       "      <td>0.312561</td>\n",
       "      <td>0.450620</td>\n",
       "      <td>1.009396</td>\n",
       "      <td>-1.297771</td>\n",
       "    </tr>\n",
       "  </tbody>\n",
       "</table>\n",
       "</div>"
      ],
      "text/plain": [
       "          0         1         2         3         4         5         6  \\\n",
       "0 -0.999874 -0.687243  1.035436  1.269526  1.018505 -1.089228 -1.515720   \n",
       "1  1.022343  1.527207 -1.622698 -1.207598 -0.563639  1.487033 -0.150207   \n",
       "2  0.977405  0.229081  0.540899 -0.712173 -1.354710 -0.710366  1.215307   \n",
       "3 -0.999874 -1.069045  0.046363  0.650245  0.899844  0.312561  0.450620   \n",
       "\n",
       "          7         8  \n",
       "0 -0.839879 -0.648886  \n",
       "1 -1.148092  0.973329  \n",
       "2  0.978575  0.973329  \n",
       "3  1.009396 -1.297771  "
      ]
     },
     "execution_count": 10,
     "metadata": {},
     "output_type": "execute_result"
    }
   ],
   "source": [
    "X_scaled_2 = StandardScaler().fit_transform(df2)\n",
    "pd.DataFrame(X_scaled_2)"
   ]
  },
  {
   "cell_type": "code",
   "execution_count": 11,
   "metadata": {},
   "outputs": [
    {
     "data": {
      "text/plain": [
       "array([[ 1.125     ,  0.60982103, -0.70512975, -0.38333268],\n",
       "       [ 0.60982103,  1.125     , -0.75580524, -0.46577938],\n",
       "       [-0.70512975, -0.75580524,  1.125     ,  0.73164278],\n",
       "       [-0.38333268, -0.46577938,  0.73164278,  1.125     ]])"
      ]
     },
     "execution_count": 11,
     "metadata": {},
     "output_type": "execute_result"
    }
   ],
   "source": [
    "C1 = 1/(df1.shape[0]-1) * (X_scaled_1.T.dot(X_scaled_1))\n",
    "C1"
   ]
  },
  {
   "cell_type": "code",
   "execution_count": 12,
   "metadata": {},
   "outputs": [
    {
     "data": {
      "text/plain": [
       "array([[ 1.33333333,  1.18043355, -0.73731296, -1.28339669, -1.27281297,\n",
       "         0.53417049,  0.69975029, -0.12892506,  1.29760756],\n",
       "       [ 1.18043355,  1.33333333, -1.03848237, -1.19167086, -0.94435522,\n",
       "         0.84089962,  0.20298111, -0.67702974,  1.1809212 ],\n",
       "       [-0.73731296, -1.03848237,  1.33333333,  0.97300472,  0.42605647,\n",
       "        -1.303526  , -0.21581356,  0.5231581 , -0.59499794],\n",
       "       [-1.28339669, -1.19167086,  0.97300472,  1.33333333,  1.17452514,\n",
       "        -0.82313237, -0.77178464,  0.09320828, -1.17873845],\n",
       "       [-1.27281297, -0.94435522,  0.42605647,  1.17452514,  1.33333333,\n",
       "        -0.23464559, -0.90000277, -0.20856615, -1.23195627],\n",
       "       [ 0.53417049,  0.84089962, -1.303526  , -0.82313237, -0.23464559,\n",
       "         1.33333333,  0.23504537, -0.39069294,  0.35236794],\n",
       "       [ 0.69975029,  0.20298111, -0.21581356, -0.77178464, -0.90000277,\n",
       "         0.23504537,  1.33333333,  1.02986509,  0.47847368],\n",
       "       [-0.12892506, -0.67702974,  0.5231581 ,  0.09320828, -0.20856615,\n",
       "        -0.39069294,  1.02986509,  1.33333333, -0.30999177],\n",
       "       [ 1.29760756,  1.1809212 , -0.59499794, -1.17873845, -1.23195627,\n",
       "         0.35236794,  0.47847368, -0.30999177,  1.33333333]])"
      ]
     },
     "execution_count": 12,
     "metadata": {},
     "output_type": "execute_result"
    }
   ],
   "source": [
    "C2 = 1/(df2.shape[0]-1) * (X_scaled_2.T.dot(X_scaled_2))\n",
    "C2"
   ]
  },
  {
   "cell_type": "code",
   "execution_count": 13,
   "metadata": {},
   "outputs": [
    {
     "data": {
      "text/plain": [
       "array([[ 1.125     ,  0.60982103, -0.70512975, -0.38333268],\n",
       "       [ 0.60982103,  1.125     , -0.75580524, -0.46577938],\n",
       "       [-0.70512975, -0.75580524,  1.125     ,  0.73164278],\n",
       "       [-0.38333268, -0.46577938,  0.73164278,  1.125     ]])"
      ]
     },
     "execution_count": 13,
     "metadata": {},
     "output_type": "execute_result"
    }
   ],
   "source": [
    "np.cov(X_scaled_1.T)"
   ]
  },
  {
   "cell_type": "code",
   "execution_count": 14,
   "metadata": {},
   "outputs": [
    {
     "data": {
      "text/plain": [
       "array([[ 1.33333333,  1.18043355, -0.73731296, -1.28339669, -1.27281297,\n",
       "         0.53417049,  0.69975029, -0.12892506,  1.29760756],\n",
       "       [ 1.18043355,  1.33333333, -1.03848237, -1.19167086, -0.94435522,\n",
       "         0.84089962,  0.20298111, -0.67702974,  1.1809212 ],\n",
       "       [-0.73731296, -1.03848237,  1.33333333,  0.97300472,  0.42605647,\n",
       "        -1.303526  , -0.21581356,  0.5231581 , -0.59499794],\n",
       "       [-1.28339669, -1.19167086,  0.97300472,  1.33333333,  1.17452514,\n",
       "        -0.82313237, -0.77178464,  0.09320828, -1.17873845],\n",
       "       [-1.27281297, -0.94435522,  0.42605647,  1.17452514,  1.33333333,\n",
       "        -0.23464559, -0.90000277, -0.20856615, -1.23195627],\n",
       "       [ 0.53417049,  0.84089962, -1.303526  , -0.82313237, -0.23464559,\n",
       "         1.33333333,  0.23504537, -0.39069294,  0.35236794],\n",
       "       [ 0.69975029,  0.20298111, -0.21581356, -0.77178464, -0.90000277,\n",
       "         0.23504537,  1.33333333,  1.02986509,  0.47847368],\n",
       "       [-0.12892506, -0.67702974,  0.5231581 ,  0.09320828, -0.20856615,\n",
       "        -0.39069294,  1.02986509,  1.33333333, -0.30999177],\n",
       "       [ 1.29760756,  1.1809212 , -0.59499794, -1.17873845, -1.23195627,\n",
       "         0.35236794,  0.47847368, -0.30999177,  1.33333333]])"
      ]
     },
     "execution_count": 14,
     "metadata": {},
     "output_type": "execute_result"
    }
   ],
   "source": [
    "np.cov(X_scaled_2.T)"
   ]
  },
  {
   "cell_type": "code",
   "execution_count": 15,
   "metadata": {},
   "outputs": [
    {
     "name": "stdout",
     "output_type": "stream",
     "text": [
      "Собственные вектора для М1: [[ 0.47534538  0.5021132  -0.56548038 -0.44962323]\n",
      " [ 0.55098836  0.28447578  0.09672811  0.77854289]\n",
      " [ 0.62971885 -0.75855788 -0.01136366 -0.16707779]\n",
      " [ 0.27186904  0.30256538  0.81899114 -0.40471587]]\n",
      "Собственные числ для М1: [2.97058754 0.77441639 0.50484179 0.25015428]\n"
     ]
    }
   ],
   "source": [
    "v1, vec1 = np.linalg.eig(C1)\n",
    "print('Собственные вектора для М1: {}'.format(vec1.T))\n",
    "print('Собственные числ для М1: {}'.format(v1))"
   ]
  },
  {
   "cell_type": "code",
   "execution_count": 16,
   "metadata": {},
   "outputs": [
    {
     "name": "stdout",
     "output_type": "stream",
     "text": [
      "Собственные вектора для М2: [[ 0.40898983+0.j          0.39693558+0.j         -0.316576  +0.j\n",
      "  -0.42059533+0.j         -0.36477271+0.j          0.26348114+0.j\n",
      "   0.20558595+0.j         -0.07537262+0.j          0.38421429+0.j        ]\n",
      " [ 0.11019284+0.j         -0.20881433+0.j          0.31876189+0.j\n",
      "  -0.06110603+0.j         -0.29666974+0.j         -0.30885146+0.j\n",
      "   0.52904617+0.j          0.60984657+0.j          0.06087832+0.j        ]\n",
      " [-0.1813066 +0.j         -0.14006783+0.j         -0.42411967+0.j\n",
      "  -0.05895433+0.j          0.22679691+0.j          0.57945743+0.j\n",
      "   0.34406027+0.j          0.34333596+0.j         -0.37508801+0.j        ]\n",
      " [ 0.17881736-0.24868625j -0.01084585+0.2427474j   0.12668743-0.23974315j\n",
      "   0.57900419+0.j         -0.34140432+0.22668737j  0.35615131-0.27717977j\n",
      "  -0.01818137+0.08007882j -0.01393687+0.13333148j -0.00229942+0.20500439j]\n",
      " [ 0.17881736+0.24868625j -0.01084585-0.2427474j   0.12668743+0.23974315j\n",
      "   0.57900419-0.j         -0.34140432-0.22668737j  0.35615131+0.27717977j\n",
      "  -0.01818137-0.08007882j -0.01393687-0.13333148j -0.00229942-0.20500439j]\n",
      " [-0.13039181+0.j          0.23514011+0.j         -0.01522081+0.j\n",
      "  -0.67152542+0.j          0.53366506+0.j         -0.41281448+0.j\n",
      "   0.09506476+0.j          0.02362426+0.j         -0.10825635+0.j        ]\n",
      " [-0.21896446-0.01391242j -0.03119646-0.10088848j -0.25299799-0.27057913j\n",
      "   0.05968306-0.33677763j  0.38705899+0.21068113j -0.18037789-0.34219818j\n",
      "   0.13750175-0.05237216j  0.08912978+0.05027307j  0.5572692 +0.j        ]\n",
      " [-0.21896446+0.01391242j -0.03119646+0.10088848j -0.25299799+0.27057913j\n",
      "   0.05968306+0.33677763j  0.38705899-0.21068113j -0.18037789+0.34219818j\n",
      "   0.13750175+0.05237216j  0.08912978-0.05027307j  0.5572692 -0.j        ]\n",
      " [-0.12373005+0.j          0.03418961+0.j          0.13155436+0.j\n",
      "  -0.11086182+0.j          0.53315224+0.j          0.15851305+0.j\n",
      "  -0.19981691+0.j          0.40064869+0.j          0.66640917+0.j        ]]\n",
      "Собственные числа для М2: [ 7.44333661e+00+0.00000000e+00j  2.96776068e+00+0.00000000e+00j\n",
      "  1.58890270e+00+0.00000000e+00j -2.29701919e-16+1.48891840e-16j\n",
      " -2.29701919e-16-1.48891840e-16j -2.43375573e-16+0.00000000e+00j\n",
      " -2.20652716e-17+8.71294144e-17j -2.20652716e-17-8.71294144e-17j\n",
      "  1.04756021e-17+0.00000000e+00j]\n"
     ]
    }
   ],
   "source": [
    "v2, vec2 = np.linalg.eig(C2)\n",
    "print('Собственные вектора для М2: {}'.format(vec2.T))\n",
    "print('Собственные числа для М2: {}'.format(v2))"
   ]
  },
  {
   "cell_type": "code",
   "execution_count": 17,
   "metadata": {},
   "outputs": [
    {
     "name": "stdout",
     "output_type": "stream",
     "text": [
      "Количество главных компонент: 4\n",
      "Главные компоненты: [0.47534538 0.55098836 0.62971885 0.27186904]\n"
     ]
    }
   ],
   "source": [
    "principal_components_1 = vec1\n",
    "num_components = principal_components_1.shape[0]\n",
    "print(\"Количество главных компонент:\", num_components)\n",
    "print(\"Главные компоненты:\", principal_components_1[0])"
   ]
  },
  {
   "cell_type": "code",
   "execution_count": 18,
   "metadata": {},
   "outputs": [
    {
     "name": "stdout",
     "output_type": "stream",
     "text": [
      "Количество главных компонент: 9\n",
      "Главные компоненты: [ 0.40898983+0.j          0.11019284+0.j         -0.1813066 +0.j\n",
      "  0.17881736-0.24868625j  0.17881736+0.24868625j -0.13039181+0.j\n",
      " -0.21896446-0.01391242j -0.21896446+0.01391242j -0.12373005+0.j        ]\n"
     ]
    }
   ],
   "source": [
    "principal_components_2 = vec2\n",
    "num_components = principal_components_2.shape[1]\n",
    "print(\"Количество главных компонент:\", num_components)\n",
    "print(\"Главные компоненты:\", principal_components_2[0])"
   ]
  },
  {
   "cell_type": "code",
   "execution_count": 19,
   "metadata": {},
   "outputs": [
    {
     "data": {
      "image/png": "[encoded data removed]",
      "text/plain": [
       "<Figure size 800x500 with 1 Axes>"
      ]
     },
     "metadata": {},
     "output_type": "display_data"
    },
    {
     "name": "stdout",
     "output_type": "stream",
     "text": [
      "Количество главных компонент, объясняющих 90% дисперсии: 3\n"
     ]
    }
   ],
   "source": [
    "new_v1 = v1/v1.sum()\n",
    "cum1 =np.cumsum(new_v1)\n",
    "plt.figure(figsize=(8, 5))\n",
    "plt.plot(cum1, marker='o')\n",
    "plt.title('Кумулятивная объясненная дисперсия')\n",
    "plt.xlabel('Количество главных компонент')\n",
    "plt.ylabel('Кумулятивная объясненная дисперсия')\n",
    "plt.grid()\n",
    "plt.show()\n",
    "\n",
    "# Количество главных компонент, объясняющих 90% дисперсии\n",
    "num_components_90_1 = np.argmax(cum1 >= 0.90) + 1\n",
    "print(\"Количество главных компонент, объясняющих 90% дисперсии:\", num_components_90_1)"
   ]
  },
  {
   "cell_type": "code",
   "execution_count": 20,
   "metadata": {},
   "outputs": [
    {
     "name": "stderr",
     "output_type": "stream",
     "text": [
      "/Library/Frameworks/Python.framework/Versions/3.12/lib/python3.12/site-packages/matplotlib/cbook.py:1699: ComplexWarning: Casting complex values to real discards the imaginary part\n",
      "  return math.isfinite(val)\n",
      "/Library/Frameworks/Python.framework/Versions/3.12/lib/python3.12/site-packages/matplotlib/cbook.py:1345: ComplexWarning: Casting complex values to real discards the imaginary part\n",
      "  return np.asarray(x, float)\n"
     ]
    },
    {
     "data": {
      "image/png": "[encoded data removed]",
      "text/plain": [
       "<Figure size 800x500 with 1 Axes>"
      ]
     },
     "metadata": {},
     "output_type": "display_data"
    },
    {
     "name": "stdout",
     "output_type": "stream",
     "text": [
      "Количество главных компонент, объясняющих 90% дисперсии: 3\n"
     ]
    }
   ],
   "source": [
    "new_v2 = v2/v2.sum()\n",
    "cum2 =np.cumsum(new_v2)\n",
    "plt.figure(figsize=(8, 5))\n",
    "plt.plot(cum2, marker='o')\n",
    "plt.title('Кумулятивная объясненная дисперсия')\n",
    "plt.xlabel('Количество главных компонент')\n",
    "plt.ylabel('Кумулятивная объясненная дисперсия')\n",
    "plt.grid()\n",
    "plt.show()\n",
    "\n",
    "# Количество главных компонент, объясняющих 90% дисперсии\n",
    "num_components_90_2 = np.argmax(cum2 >= 0.90) + 1\n",
    "print(\"Количество главных компонент, объясняющих 90% дисперсии:\", num_components_90_2)"
   ]
  },
  {
   "cell_type": "code",
   "execution_count": 21,
   "metadata": {},
   "outputs": [
    {
     "data": {
      "text/plain": [
       "array([[-1.04653865, -1.36637397,  0.40379165,  0.41959731],\n",
       "       [ 0.40570662, -0.34159349,  0.82150714,  1.19950101],\n",
       "       [-0.92206049, -0.08539837,  0.40379165,  0.83007294],\n",
       "       [-0.92206049,  0.17079675,  0.82150714,  0.83007294],\n",
       "       [-1.04653865, -1.11017885,  1.61516658, -0.19611614],\n",
       "       [ 1.3185465 , -0.08539837, -0.55695399,  0.83007294],\n",
       "       [ 0.03227212,  1.70796746, -1.60124273, -1.05811496],\n",
       "       [ 1.73347372,  1.60548942, -0.84935484, -1.22230521],\n",
       "       [ 0.44719934, -0.49531056, -1.05821259, -1.63278085]])"
      ]
     },
     "execution_count": 21,
     "metadata": {},
     "output_type": "execute_result"
    }
   ],
   "source": [
    "X_scaled_1 "
   ]
  },
  {
   "cell_type": "code",
   "execution_count": 22,
   "metadata": {},
   "outputs": [
    {
     "name": "stdout",
     "output_type": "stream",
     "text": [
      "Восстановленные данные из всего набора главных компонент:\n",
      " [[-0.88197274 -1.09352489  0.79868824 -0.83051496]\n",
      " [ 0.84806245 -0.15369766  0.71058454 -1.07107299]\n",
      " [-0.00540435 -0.54242051  1.18838052 -0.05531479]\n",
      " [ 0.39879949 -0.78640058  1.20841502  0.07435312]\n",
      " [-0.14538001 -2.12583516  0.30543999 -0.58426091]\n",
      " [ 0.45465818  1.31139901 -0.06772118 -0.90222448]\n",
      " [-0.33959083  1.39656597 -0.70143158  2.01098364]\n",
      " [ 0.841443    1.60158045 -1.81635478  1.10712697]\n",
      " [-1.17061519  0.39233337 -1.62600077  0.25092441]]\n",
      "Восстановленные данные из набора, объясняющего 90% дисперсии:\n",
      " [[-0.99604826 -1.22048051  0.45504176 -0.66069727]\n",
      " [ 0.52195525 -0.51662514 -0.27179615 -0.5856159 ]\n",
      " [-0.23107549 -0.79357185  0.50855814  0.2806289 ]\n",
      " [ 0.17312836 -1.03755192  0.52859263  0.41029681]\n",
      " [-0.0920621  -2.0664972   0.46605737 -0.66363223]\n",
      " [ 0.22898705  1.06024767 -0.74754356 -0.56628079]\n",
      " [-0.05192213  1.71671492  0.16515519  1.58274773]\n",
      " [ 1.17374995  1.9714077  -0.81529765  0.61244065]\n",
      " [-0.72671263  0.88635633 -0.28876773 -0.40988791]]\n"
     ]
    }
   ],
   "source": [
    "reconstructed_full_1 = np.dot(M1_st, principal_components_1.T)\n",
    "reconstructed_90_1 = np.dot(M1_st[:, :num_components_90_1], principal_components_1[:, :num_components_90_1].T)\n",
    "print(\"Восстановленные данные из всего набора главных компонент:\\n\", reconstructed_full_1)\n",
    "print(\"Восстановленные данные из набора, объясняющего 90% дисперсии:\\n\", reconstructed_90_1)"
   ]
  },
  {
   "cell_type": "code",
   "execution_count": 23,
   "metadata": {},
   "outputs": [
    {
     "name": "stdout",
     "output_type": "stream",
     "text": [
      "Восстановленные данные из всего набора главных компонент:\n",
      " [[ 0.47484645-0.053023j   -0.6280462 +0.1291194j   0.47536219+0.12268786j\n",
      "   2.38906474+0.22760821j -1.81669285-0.08548361j  2.13537497+0.16169357j\n",
      "  -0.55227841+0.05549677j -0.51579678-0.00050755j -2.44685538+0.0514605j ]\n",
      " [ 0.53384738+0.1462609j   0.75684111-0.25699463j  1.06086967-0.11562198j\n",
      "  -2.63717456-0.33606537j  0.22067794+0.06425806j -1.99882432-0.16298188j\n",
      "   0.26039851-0.10382892j  0.63123595-0.03569334j  0.86265279-0.13201454j]\n",
      " [-0.55085791-0.16308365j  0.08458658+0.1320906j  -1.14384464-0.21809874j\n",
      "  -1.15365116-0.07972623j  1.3928218 +0.19553012j -0.1841125 -0.25910772j\n",
      "   0.58546028+0.03905541j  0.84927201+0.09757169j  2.13946626+0.13172291j]\n",
      " [-0.45783592+0.06984575j -0.2133815 -0.00421538j -0.39238722+0.21103286j\n",
      "   1.40176098+0.1881834j   0.20319311-0.17430457j  0.04756185+0.26039604j\n",
      "  -0.29358038+0.00927675j -0.96471119-0.0613708j  -0.55526367-0.05116887j]]\n",
      "Восстановленные данные из набора, объясняющего 90% дисперсии:\n",
      " [[-0.67239889+0.j -0.39841054+0.j -0.34167974+0.j  0.4014935 +0.j\n",
      "   0.80344464+0.j  0.54879935+0.j -0.21289094+0.j  0.01175266+0.j\n",
      "  -0.81438369+0.j]\n",
      " [ 0.88062105+0.j  0.31418937+0.j  0.85138454+0.j -0.42764909+0.j\n",
      "  -1.1940219 +0.j -1.14259675+0.j  0.45983632+0.j  0.29717463+0.j\n",
      "   1.09442727+0.j]\n",
      " [ 0.32692303+0.j  0.26436868+0.j -0.46580666+0.j -0.45697845+0.j\n",
      "  -0.30181765+0.j  0.5002039 +0.j  0.50823716+0.j  0.25174499+0.j\n",
      "   0.18659402+0.j]\n",
      " [-0.53514519+0.j -0.1801475 +0.j -0.04389814+0.j  0.48313404+0.j\n",
      "   0.6923949 +0.j  0.0935935 +0.j -0.75518254+0.j -0.56067229+0.j\n",
      "  -0.46663759+0.j]]\n"
     ]
    }
   ],
   "source": [
    "reconstructed_full_2 = np.dot(M2_st, principal_components_2.T)\n",
    "reconstructed_90_2 = np.dot(M2_st[:, :num_components_90_2], principal_components_2[:, :num_components_90_2].T)\n",
    "print(\"Восстановленные данные из всего набора главных компонент:\\n\", reconstructed_full_2)\n",
    "print(\"Восстановленные данные из набора, объясняющего 90% дисперсии:\\n\", reconstructed_90_2)"
   ]
  },
  {
   "cell_type": "markdown",
   "metadata": {
    "id": "hbShlRv7q-c7"
   },
   "source": [
    "# 2. Реализовать МГК с использованием библиотеки sklearn PCA"
   ]
  },
  {
   "cell_type": "markdown",
   "metadata": {
    "id": "17H2XLHfe3gX"
   },
   "source": [
    "https://stats.stackexchange.com/questions/134282/relationship-between-svd-and-pca-how-to-use-svd-to-perform-pca"
   ]
  },
  {
   "cell_type": "markdown",
   "metadata": {
    "id": "_pwOQx4zrdvp"
   },
   "source": [
    "  - Использовать стандартизованные данные\n",
    "\n",
    "  Шаг 1. Вывести собственные вектора и собственные значения с использованием sklearn PCA\n",
    "\n",
    "  Шаг 2. Найти главные компонеты с использованием sklearn PCA (показать как они получаются - можно взять из семинара (Компонета представляет собой линейную комбинацию исходных\n",
    "переменных)), чему равно количество главных компонет?\n",
    "\n",
    "  Шаг 3. Какое количество главных компонент, которое объясняет 90% диспресии?\n",
    "  \n",
    "  Шаг 4. Восстановить исходные данные из всего набор главных и из набора на предыдущем шаге, объяснить полученный результат.\n",
    "\n",
    "  Сравнить все полученные результаты с результатами из 1 задания."
   ]
  },
  {
   "cell_type": "code",
   "execution_count": 24,
   "metadata": {},
   "outputs": [
    {
     "data": {
      "text/plain": [
       "array([[ 1.60053867, -0.59959841, -0.30275469, -0.53705483],\n",
       "       [ 0.98253752,  1.13969036, -0.30485423,  0.19429468],\n",
       "       [ 1.08273317,  0.15296703,  0.65913456, -0.28176021],\n",
       "       [ 1.19030414,  0.26625316,  0.85822017,  0.13786085],\n",
       "       [ 1.88006941, -0.88890243, -0.19752224,  0.78175528],\n",
       "       [-0.52561181,  1.29458429, -0.76273547, -0.45945069],\n",
       "       [-2.25415782, -0.47501612,  1.08028633, -0.35762207],\n",
       "       [-2.66000646,  0.37807317, -0.08761626,  0.75611559],\n",
       "       [-1.29640681, -1.26805105, -0.94215816, -0.23413859]])"
      ]
     },
     "execution_count": 24,
     "metadata": {},
     "output_type": "execute_result"
    }
   ],
   "source": [
    "pca = PCA()\n",
    "M1_y = pca.fit_transform(M1_st)\n",
    "M1_y"
   ]
  },
  {
   "cell_type": "code",
   "execution_count": 25,
   "metadata": {},
   "outputs": [
    {
     "data": {
      "text/plain": [
       "array([0.66013056, 0.17209253, 0.11218706, 0.05558984])"
      ]
     },
     "execution_count": 25,
     "metadata": {},
     "output_type": "execute_result"
    }
   ],
   "source": [
    "pca.explained_variance_ratio_"
   ]
  },
  {
   "cell_type": "code",
   "execution_count": 26,
   "metadata": {},
   "outputs": [
    {
     "data": {
      "text/plain": [
       "3"
      ]
     },
     "execution_count": 26,
     "metadata": {},
     "output_type": "execute_result"
    }
   ],
   "source": [
    "cs = pca.explained_variance_ratio_.cumsum()\n",
    "(cs > 0.9).argmax() + 1  # 0.9 -> 3"
   ]
  },
  {
   "cell_type": "code",
   "execution_count": 27,
   "metadata": {},
   "outputs": [
    {
     "data": {
      "text/plain": [
       "array([2.97058754, 0.77441639, 0.50484179, 0.25015428])"
      ]
     },
     "execution_count": 27,
     "metadata": {},
     "output_type": "execute_result"
    }
   ],
   "source": [
    "pca.explained_variance_ # eigenvalues"
   ]
  },
  {
   "cell_type": "code",
   "execution_count": 28,
   "metadata": {},
   "outputs": [
    {
     "data": {
      "text/plain": [
       "array([[-0.47534538, -0.5021132 ,  0.56548038,  0.44962323],\n",
       "       [ 0.55098836,  0.28447578,  0.09672811,  0.77854289],\n",
       "       [-0.62971885,  0.75855788,  0.01136366,  0.16707779],\n",
       "       [ 0.27186904,  0.30256538,  0.81899114, -0.40471587]])"
      ]
     },
     "execution_count": 28,
     "metadata": {},
     "output_type": "execute_result"
    }
   ],
   "source": [
    "pca.components_ # eigenvectors"
   ]
  },
  {
   "cell_type": "code",
   "execution_count": 29,
   "metadata": {},
   "outputs": [
    {
     "data": {
      "text/plain": [
       "array([[-1.04653865, -1.36637397,  0.40379165,  0.41959731],\n",
       "       [ 0.40570662, -0.34159349,  0.82150714,  1.19950101],\n",
       "       [-0.92206049, -0.08539837,  0.40379165,  0.83007294],\n",
       "       [-0.92206049,  0.17079675,  0.82150714,  0.83007294],\n",
       "       [-1.04653865, -1.11017885,  1.61516658, -0.19611614],\n",
       "       [ 1.3185465 , -0.08539837, -0.55695399,  0.83007294],\n",
       "       [ 0.03227212,  1.70796746, -1.60124273, -1.05811496],\n",
       "       [ 1.73347372,  1.60548942, -0.84935484, -1.22230521],\n",
       "       [ 0.44719934, -0.49531056, -1.05821259, -1.63278085]])"
      ]
     },
     "execution_count": 29,
     "metadata": {},
     "output_type": "execute_result"
    }
   ],
   "source": [
    "pca.inverse_transform(M1_y)"
   ]
  },
  {
   "cell_type": "code",
   "execution_count": 30,
   "metadata": {},
   "outputs": [
    {
     "data": {
      "text/html": [
       "<div>\n",
       "<style scoped>\n",
       "    .dataframe tbody tr th:only-of-type {\n",
       "        vertical-align: middle;\n",
       "    }\n",
       "\n",
       "    .dataframe tbody tr th {\n",
       "        vertical-align: top;\n",
       "    }\n",
       "\n",
       "    .dataframe thead th {\n",
       "        text-align: right;\n",
       "    }\n",
       "</style>\n",
       "<table border=\"1\" class=\"dataframe\">\n",
       "  <thead>\n",
       "    <tr style=\"text-align: right;\">\n",
       "      <th></th>\n",
       "      <th>0</th>\n",
       "      <th>1</th>\n",
       "      <th>2</th>\n",
       "      <th>3</th>\n",
       "    </tr>\n",
       "  </thead>\n",
       "  <tbody>\n",
       "    <tr>\n",
       "      <th>0</th>\n",
       "      <td>-0.900530</td>\n",
       "      <td>-1.203880</td>\n",
       "      <td>0.843635</td>\n",
       "      <td>0.202243</td>\n",
       "    </tr>\n",
       "    <tr>\n",
       "      <th>1</th>\n",
       "      <td>0.352884</td>\n",
       "      <td>-0.400380</td>\n",
       "      <td>0.662382</td>\n",
       "      <td>1.278135</td>\n",
       "    </tr>\n",
       "    <tr>\n",
       "      <th>2</th>\n",
       "      <td>-0.845459</td>\n",
       "      <td>-0.000147</td>\n",
       "      <td>0.634551</td>\n",
       "      <td>0.716040</td>\n",
       "    </tr>\n",
       "    <tr>\n",
       "      <th>3</th>\n",
       "      <td>-0.959541</td>\n",
       "      <td>0.129085</td>\n",
       "      <td>0.708600</td>\n",
       "      <td>0.885867</td>\n",
       "    </tr>\n",
       "    <tr>\n",
       "      <th>4</th>\n",
       "      <td>-1.259074</td>\n",
       "      <td>-1.346711</td>\n",
       "      <td>0.974916</td>\n",
       "      <td>0.120273</td>\n",
       "    </tr>\n",
       "    <tr>\n",
       "      <th>5</th>\n",
       "      <td>1.443457</td>\n",
       "      <td>0.053616</td>\n",
       "      <td>-0.180668</td>\n",
       "      <td>0.644126</td>\n",
       "    </tr>\n",
       "    <tr>\n",
       "      <th>6</th>\n",
       "      <td>0.129498</td>\n",
       "      <td>1.816172</td>\n",
       "      <td>-1.308353</td>\n",
       "      <td>-1.202850</td>\n",
       "    </tr>\n",
       "    <tr>\n",
       "      <th>7</th>\n",
       "      <td>1.527909</td>\n",
       "      <td>1.376715</td>\n",
       "      <td>-1.468607</td>\n",
       "      <td>-0.916293</td>\n",
       "    </tr>\n",
       "    <tr>\n",
       "      <th>8</th>\n",
       "      <td>0.510854</td>\n",
       "      <td>-0.424468</td>\n",
       "      <td>-0.866455</td>\n",
       "      <td>-1.727540</td>\n",
       "    </tr>\n",
       "  </tbody>\n",
       "</table>\n",
       "</div>"
      ],
      "text/plain": [
       "          0         1         2         3\n",
       "0 -0.900530 -1.203880  0.843635  0.202243\n",
       "1  0.352884 -0.400380  0.662382  1.278135\n",
       "2 -0.845459 -0.000147  0.634551  0.716040\n",
       "3 -0.959541  0.129085  0.708600  0.885867\n",
       "4 -1.259074 -1.346711  0.974916  0.120273\n",
       "5  1.443457  0.053616 -0.180668  0.644126\n",
       "6  0.129498  1.816172 -1.308353 -1.202850\n",
       "7  1.527909  1.376715 -1.468607 -0.916293\n",
       "8  0.510854 -0.424468 -0.866455 -1.727540"
      ]
     },
     "execution_count": 30,
     "metadata": {},
     "output_type": "execute_result"
    }
   ],
   "source": [
    "pca = PCA(n_components=3)\n",
    "M1_y_90 = pca.fit_transform(M1_st)\n",
    "M1_cleared_90 = pca.inverse_transform(M1_y_90)\n",
    "pd.DataFrame(M1_cleared_90)"
   ]
  },
  {
   "cell_type": "markdown",
   "metadata": {},
   "source": [
    "Аналогичным образом находим для М2"
   ]
  },
  {
   "cell_type": "code",
   "execution_count": 31,
   "metadata": {},
   "outputs": [
    {
     "data": {
      "text/plain": [
       "array([[ 2.69961245e+00, -1.03352720e+00, -1.20308671e+00,\n",
       "        -3.45392854e-16],\n",
       "       [-3.07297441e+00, -1.66213992e+00,  2.83037204e-01,\n",
       "        -3.45392854e-16],\n",
       "       [-1.47603234e+00,  2.19609173e+00, -7.26553280e-01,\n",
       "        -3.45392854e-16],\n",
       "       [ 1.84939430e+00,  4.99575395e-01,  1.64660279e+00,\n",
       "        -3.45392854e-16]])"
      ]
     },
     "execution_count": 31,
     "metadata": {},
     "output_type": "execute_result"
    }
   ],
   "source": [
    "pca = PCA()\n",
    "M2_y = pca.fit_transform(M2_st)\n",
    "M2_y"
   ]
  },
  {
   "cell_type": "code",
   "execution_count": 32,
   "metadata": {},
   "outputs": [
    {
     "data": {
      "text/plain": [
       "array([6.20278051e-01, 2.47313390e-01, 1.32408559e-01, 1.32551360e-32])"
      ]
     },
     "execution_count": 32,
     "metadata": {},
     "output_type": "execute_result"
    }
   ],
   "source": [
    "pca.explained_variance_ratio_"
   ]
  },
  {
   "cell_type": "code",
   "execution_count": 33,
   "metadata": {},
   "outputs": [
    {
     "data": {
      "text/plain": [
       "3"
      ]
     },
     "execution_count": 33,
     "metadata": {},
     "output_type": "execute_result"
    }
   ],
   "source": [
    "cs = pca.explained_variance_ratio_.cumsum()\n",
    "(cs > 0.9).argmax() + 1  # 0.9 -> 3"
   ]
  },
  {
   "cell_type": "code",
   "execution_count": 34,
   "metadata": {},
   "outputs": [
    {
     "data": {
      "text/plain": [
       "array([7.44333661e+00, 2.96776068e+00, 1.58890270e+00, 1.59061632e-31])"
      ]
     },
     "execution_count": 34,
     "metadata": {},
     "output_type": "execute_result"
    }
   ],
   "source": [
    "pca.explained_variance_ # eigenvalues"
   ]
  },
  {
   "cell_type": "code",
   "execution_count": 35,
   "metadata": {},
   "outputs": [
    {
     "data": {
      "text/plain": [
       "array([[-0.40898983, -0.39693558,  0.316576  ,  0.42059533,  0.36477271,\n",
       "        -0.26348114, -0.20558595,  0.07537262, -0.38421429],\n",
       "       [ 0.11019284, -0.20881433,  0.31876189, -0.06110603, -0.29666974,\n",
       "        -0.30885146,  0.52904617,  0.60984657,  0.06087832],\n",
       "       [-0.1813066 , -0.14006783, -0.42411967, -0.05895433,  0.22679691,\n",
       "         0.57945743,  0.34406027,  0.34333596, -0.37508801],\n",
       "       [-0.21378213,  0.80612598, -0.11488336,  0.28321886,  0.03729571,\n",
       "        -0.29627042,  0.22118664,  0.10417226, -0.24920769]])"
      ]
     },
     "execution_count": 35,
     "metadata": {},
     "output_type": "execute_result"
    }
   ],
   "source": [
    "pca.components_ # eigenvectors"
   ]
  },
  {
   "cell_type": "code",
   "execution_count": 36,
   "metadata": {},
   "outputs": [
    {
     "data": {
      "text/html": [
       "<div>\n",
       "<style scoped>\n",
       "    .dataframe tbody tr th:only-of-type {\n",
       "        vertical-align: middle;\n",
       "    }\n",
       "\n",
       "    .dataframe tbody tr th {\n",
       "        vertical-align: top;\n",
       "    }\n",
       "\n",
       "    .dataframe thead th {\n",
       "        text-align: right;\n",
       "    }\n",
       "</style>\n",
       "<table border=\"1\" class=\"dataframe\">\n",
       "  <thead>\n",
       "    <tr style=\"text-align: right;\">\n",
       "      <th></th>\n",
       "      <th>0</th>\n",
       "      <th>1</th>\n",
       "      <th>2</th>\n",
       "      <th>3</th>\n",
       "      <th>4</th>\n",
       "      <th>5</th>\n",
       "      <th>6</th>\n",
       "      <th>7</th>\n",
       "      <th>8</th>\n",
       "    </tr>\n",
       "  </thead>\n",
       "  <tbody>\n",
       "    <tr>\n",
       "      <th>0</th>\n",
       "      <td>-0.999874</td>\n",
       "      <td>-0.687243</td>\n",
       "      <td>1.035436</td>\n",
       "      <td>1.269526</td>\n",
       "      <td>1.018505</td>\n",
       "      <td>-1.089228</td>\n",
       "      <td>-1.515720</td>\n",
       "      <td>-0.839879</td>\n",
       "      <td>-0.648886</td>\n",
       "    </tr>\n",
       "    <tr>\n",
       "      <th>1</th>\n",
       "      <td>1.022343</td>\n",
       "      <td>1.527207</td>\n",
       "      <td>-1.622698</td>\n",
       "      <td>-1.207598</td>\n",
       "      <td>-0.563639</td>\n",
       "      <td>1.487033</td>\n",
       "      <td>-0.150207</td>\n",
       "      <td>-1.148092</td>\n",
       "      <td>0.973329</td>\n",
       "    </tr>\n",
       "    <tr>\n",
       "      <th>2</th>\n",
       "      <td>0.977405</td>\n",
       "      <td>0.229081</td>\n",
       "      <td>0.540899</td>\n",
       "      <td>-0.712173</td>\n",
       "      <td>-1.354710</td>\n",
       "      <td>-0.710366</td>\n",
       "      <td>1.215307</td>\n",
       "      <td>0.978575</td>\n",
       "      <td>0.973329</td>\n",
       "    </tr>\n",
       "    <tr>\n",
       "      <th>3</th>\n",
       "      <td>-0.999874</td>\n",
       "      <td>-1.069045</td>\n",
       "      <td>0.046363</td>\n",
       "      <td>0.650245</td>\n",
       "      <td>0.899844</td>\n",
       "      <td>0.312561</td>\n",
       "      <td>0.450620</td>\n",
       "      <td>1.009396</td>\n",
       "      <td>-1.297771</td>\n",
       "    </tr>\n",
       "  </tbody>\n",
       "</table>\n",
       "</div>"
      ],
      "text/plain": [
       "          0         1         2         3         4         5         6  \\\n",
       "0 -0.999874 -0.687243  1.035436  1.269526  1.018505 -1.089228 -1.515720   \n",
       "1  1.022343  1.527207 -1.622698 -1.207598 -0.563639  1.487033 -0.150207   \n",
       "2  0.977405  0.229081  0.540899 -0.712173 -1.354710 -0.710366  1.215307   \n",
       "3 -0.999874 -1.069045  0.046363  0.650245  0.899844  0.312561  0.450620   \n",
       "\n",
       "          7         8  \n",
       "0 -0.839879 -0.648886  \n",
       "1 -1.148092  0.973329  \n",
       "2  0.978575  0.973329  \n",
       "3  1.009396 -1.297771  "
      ]
     },
     "execution_count": 36,
     "metadata": {},
     "output_type": "execute_result"
    }
   ],
   "source": [
    "pd.DataFrame(pca.inverse_transform(M2_y))"
   ]
  },
  {
   "cell_type": "code",
   "execution_count": 37,
   "metadata": {},
   "outputs": [
    {
     "data": {
      "text/html": [
       "<div>\n",
       "<style scoped>\n",
       "    .dataframe tbody tr th:only-of-type {\n",
       "        vertical-align: middle;\n",
       "    }\n",
       "\n",
       "    .dataframe tbody tr th {\n",
       "        vertical-align: top;\n",
       "    }\n",
       "\n",
       "    .dataframe thead th {\n",
       "        text-align: right;\n",
       "    }\n",
       "</style>\n",
       "<table border=\"1\" class=\"dataframe\">\n",
       "  <thead>\n",
       "    <tr style=\"text-align: right;\">\n",
       "      <th></th>\n",
       "      <th>0</th>\n",
       "      <th>1</th>\n",
       "      <th>2</th>\n",
       "      <th>3</th>\n",
       "      <th>4</th>\n",
       "      <th>5</th>\n",
       "      <th>6</th>\n",
       "      <th>7</th>\n",
       "      <th>8</th>\n",
       "    </tr>\n",
       "  </thead>\n",
       "  <tbody>\n",
       "    <tr>\n",
       "      <th>0</th>\n",
       "      <td>-0.999874</td>\n",
       "      <td>-0.687243</td>\n",
       "      <td>1.035436</td>\n",
       "      <td>1.269526</td>\n",
       "      <td>1.018505</td>\n",
       "      <td>-1.089228</td>\n",
       "      <td>-1.515720</td>\n",
       "      <td>-0.839879</td>\n",
       "      <td>-0.648886</td>\n",
       "    </tr>\n",
       "    <tr>\n",
       "      <th>1</th>\n",
       "      <td>1.022343</td>\n",
       "      <td>1.527207</td>\n",
       "      <td>-1.622698</td>\n",
       "      <td>-1.207598</td>\n",
       "      <td>-0.563639</td>\n",
       "      <td>1.487033</td>\n",
       "      <td>-0.150207</td>\n",
       "      <td>-1.148092</td>\n",
       "      <td>0.973329</td>\n",
       "    </tr>\n",
       "    <tr>\n",
       "      <th>2</th>\n",
       "      <td>0.977405</td>\n",
       "      <td>0.229081</td>\n",
       "      <td>0.540899</td>\n",
       "      <td>-0.712173</td>\n",
       "      <td>-1.354710</td>\n",
       "      <td>-0.710366</td>\n",
       "      <td>1.215307</td>\n",
       "      <td>0.978575</td>\n",
       "      <td>0.973329</td>\n",
       "    </tr>\n",
       "    <tr>\n",
       "      <th>3</th>\n",
       "      <td>-0.999874</td>\n",
       "      <td>-1.069045</td>\n",
       "      <td>0.046363</td>\n",
       "      <td>0.650245</td>\n",
       "      <td>0.899844</td>\n",
       "      <td>0.312561</td>\n",
       "      <td>0.450620</td>\n",
       "      <td>1.009396</td>\n",
       "      <td>-1.297771</td>\n",
       "    </tr>\n",
       "  </tbody>\n",
       "</table>\n",
       "</div>"
      ],
      "text/plain": [
       "          0         1         2         3         4         5         6  \\\n",
       "0 -0.999874 -0.687243  1.035436  1.269526  1.018505 -1.089228 -1.515720   \n",
       "1  1.022343  1.527207 -1.622698 -1.207598 -0.563639  1.487033 -0.150207   \n",
       "2  0.977405  0.229081  0.540899 -0.712173 -1.354710 -0.710366  1.215307   \n",
       "3 -0.999874 -1.069045  0.046363  0.650245  0.899844  0.312561  0.450620   \n",
       "\n",
       "          7         8  \n",
       "0 -0.839879 -0.648886  \n",
       "1 -1.148092  0.973329  \n",
       "2  0.978575  0.973329  \n",
       "3  1.009396 -1.297771  "
      ]
     },
     "execution_count": 37,
     "metadata": {},
     "output_type": "execute_result"
    }
   ],
   "source": [
    "pca = PCA(n_components=3)\n",
    "M2_y_90 = pca.fit_transform(M2_st)\n",
    "M2_cleared_90 = pca.inverse_transform(M2_y_90)\n",
    "pd.DataFrame(M2_cleared_90)"
   ]
  },
  {
   "cell_type": "markdown",
   "metadata": {
    "id": "2ohKAlDuslBi"
   },
   "source": [
    "# 3. Реализовать SVD с использованием numpy svd"
   ]
  },
  {
   "cell_type": "markdown",
   "metadata": {
    "id": "26mYhldVfrK8"
   },
   "source": [
    "Для любой матрицы существует ее SVD-разложение (доказательство сего факта представлено здесь http://www.machinelearning.ru/wiki/images/e/ee/Kitov-ML-eng-04-Singular_value_decomposition.pdf, страница 7)."
   ]
  },
  {
   "cell_type": "markdown",
   "metadata": {
    "id": "pEqH7I2x72FM"
   },
   "source": [
    "![4.PNG](data:image/png;base64,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)\n",
    "\n",
    "U — матрица левых сингулярных векторов в столбцах\n",
    "\n",
    "Σ — диагональная матрица с сингулярными значениями\n",
    "\n",
    "V — матрица правых сингулярных векторов в столбцах"
   ]
  },
  {
   "cell_type": "markdown",
   "metadata": {
    "id": "TW6RnTQ1-Yql"
   },
   "source": [
    "Такое использование SVD очень похоже на анализ главных компонент (PCA), и на самом деле несколько библиотек численного программного обеспечения фактически используют SVD под капотом для своих подпрограмм PCA, например, sklearn.decomposition.PCA в scikit-learn. Это связано с тем, что он более численно стабилен, а также возможно выполнить усеченный SVD, для которого нам нужно только вычислить $U \\Sigma V^T$ для первых $k<n$ признаков; это делает ее вычисление намного быстрее, чем полную ковариационную матрицу, вычисленную в PCA."
   ]
  },
  {
   "cell_type": "markdown",
   "metadata": {
    "id": "NofN03gHMrKv"
   },
   "source": [
    "Обратите внимание, что некоторые знаки перевернуты, это нормально из-за заявленной ранее неоднозначности разложения."
   ]
  },
  {
   "cell_type": "markdown",
   "metadata": {
    "id": "PRl0dNlZtGoO"
   },
   "source": [
    "  - Использовать стандартизованные данные\n",
    "\n",
    "  Шаг 1. Получить U, S, VT матрицы\n",
    "\n",
    "  Шаг 2. Из svd разложения получить матрицу ковариации\n",
    "\n",
    "  Шаг 3. Из svd разложения получить собственные вектора, собственные числа и процент объясненной дисперсии\n",
    "\n",
    "  Шаг 4. Из svd разложения восстановить исходные данные по количеству k компонент и по всему набору\n",
    "\n",
    "  Сравнить результаты с результатами полученными в 1 и 2 задании."
   ]
  },
  {
   "cell_type": "markdown",
   "metadata": {},
   "source": [
    "#### Для М1"
   ]
  },
  {
   "cell_type": "code",
   "execution_count": 39,
   "metadata": {},
   "outputs": [
    {
     "data": {
      "text/html": [
       "<div>\n",
       "<style scoped>\n",
       "    .dataframe tbody tr th:only-of-type {\n",
       "        vertical-align: middle;\n",
       "    }\n",
       "\n",
       "    .dataframe tbody tr th {\n",
       "        vertical-align: top;\n",
       "    }\n",
       "\n",
       "    .dataframe thead th {\n",
       "        text-align: right;\n",
       "    }\n",
       "</style>\n",
       "<table border=\"1\" class=\"dataframe\">\n",
       "  <thead>\n",
       "    <tr style=\"text-align: right;\">\n",
       "      <th></th>\n",
       "      <th>0</th>\n",
       "      <th>1</th>\n",
       "      <th>2</th>\n",
       "      <th>3</th>\n",
       "    </tr>\n",
       "  </thead>\n",
       "  <tbody>\n",
       "    <tr>\n",
       "      <th>0</th>\n",
       "      <td>-0.328322</td>\n",
       "      <td>-0.240895</td>\n",
       "      <td>-0.150650</td>\n",
       "      <td>-0.379638</td>\n",
       "    </tr>\n",
       "    <tr>\n",
       "      <th>1</th>\n",
       "      <td>-0.201550</td>\n",
       "      <td>0.457883</td>\n",
       "      <td>-0.151694</td>\n",
       "      <td>0.137345</td>\n",
       "    </tr>\n",
       "    <tr>\n",
       "      <th>2</th>\n",
       "      <td>-0.222103</td>\n",
       "      <td>0.061456</td>\n",
       "      <td>0.327983</td>\n",
       "      <td>-0.199173</td>\n",
       "    </tr>\n",
       "    <tr>\n",
       "      <th>3</th>\n",
       "      <td>-0.244170</td>\n",
       "      <td>0.106970</td>\n",
       "      <td>0.427047</td>\n",
       "      <td>0.097452</td>\n",
       "    </tr>\n",
       "    <tr>\n",
       "      <th>4</th>\n",
       "      <td>-0.385663</td>\n",
       "      <td>-0.357126</td>\n",
       "      <td>-0.098286</td>\n",
       "      <td>0.552614</td>\n",
       "    </tr>\n",
       "    <tr>\n",
       "      <th>5</th>\n",
       "      <td>0.107820</td>\n",
       "      <td>0.520113</td>\n",
       "      <td>-0.379535</td>\n",
       "      <td>-0.324781</td>\n",
       "    </tr>\n",
       "    <tr>\n",
       "      <th>6</th>\n",
       "      <td>0.462400</td>\n",
       "      <td>-0.190843</td>\n",
       "      <td>0.537547</td>\n",
       "      <td>-0.252799</td>\n",
       "    </tr>\n",
       "    <tr>\n",
       "      <th>7</th>\n",
       "      <td>0.545653</td>\n",
       "      <td>0.151895</td>\n",
       "      <td>-0.043598</td>\n",
       "      <td>0.534490</td>\n",
       "    </tr>\n",
       "    <tr>\n",
       "      <th>8</th>\n",
       "      <td>0.265935</td>\n",
       "      <td>-0.509453</td>\n",
       "      <td>-0.468815</td>\n",
       "      <td>-0.165510</td>\n",
       "    </tr>\n",
       "  </tbody>\n",
       "</table>\n",
       "</div>"
      ],
      "text/plain": [
       "          0         1         2         3\n",
       "0 -0.328322 -0.240895 -0.150650 -0.379638\n",
       "1 -0.201550  0.457883 -0.151694  0.137345\n",
       "2 -0.222103  0.061456  0.327983 -0.199173\n",
       "3 -0.244170  0.106970  0.427047  0.097452\n",
       "4 -0.385663 -0.357126 -0.098286  0.552614\n",
       "5  0.107820  0.520113 -0.379535 -0.324781\n",
       "6  0.462400 -0.190843  0.537547 -0.252799\n",
       "7  0.545653  0.151895 -0.043598  0.534490\n",
       "8  0.265935 -0.509453 -0.468815 -0.165510"
      ]
     },
     "execution_count": 39,
     "metadata": {},
     "output_type": "execute_result"
    }
   ],
   "source": [
    "U,S,VT = np.linalg.svd(M1_st,full_matrices=False)\n",
    "pd.DataFrame(U)"
   ]
  },
  {
   "cell_type": "code",
   "execution_count": 43,
   "metadata": {},
   "outputs": [
    {
     "data": {
      "text/plain": [
       "array([[ 1.125     ,  0.60982103, -0.70512975, -0.38333268],\n",
       "       [ 0.60982103,  1.125     , -0.75580524, -0.46577938],\n",
       "       [-0.70512975, -0.75580524,  1.125     ,  0.73164278],\n",
       "       [-0.38333268, -0.46577938,  0.73164278,  1.125     ]])"
      ]
     },
     "execution_count": 43,
     "metadata": {},
     "output_type": "execute_result"
    }
   ],
   "source": [
    "VT # eigenvectors\n",
    "l_svd = S**2 / (M1_st.shape[0]-1) # eigenvalues\n",
    "(l_svd/l_svd.sum()).cumsum()\n",
    "S_V = np.diag(S)\n",
    "C1_svd = VT.T.dot((S_V**2)).dot(VT) # covarience matrix\n",
    "C1_svd/8"
   ]
  },
  {
   "cell_type": "code",
   "execution_count": 44,
   "metadata": {},
   "outputs": [
    {
     "data": {
      "text/plain": [
       "array([[-0.02113953,  0.15813009, -0.17063302, -0.34765756, -0.5555299 ,\n",
       "         0.67305571, -0.06633273,  0.11997675,  0.21013017],\n",
       "       [-0.55956699,  0.11146054, -0.22823324,  0.01307401,  0.10663715,\n",
       "        -0.08220002,  0.05566803,  0.75576484, -0.17260432],\n",
       "       [-0.04112343,  0.49547416,  0.15693047,  0.25603623,  0.06317077,\n",
       "         0.2680634 , -0.47207622, -0.13958087, -0.58689452],\n",
       "       [-0.13188239, -0.09607762,  0.30743522,  0.27629082, -0.51705114,\n",
       "         0.00728962,  0.61052766, -0.05771808, -0.39881408]])"
      ]
     },
     "execution_count": 44,
     "metadata": {},
     "output_type": "execute_result"
    }
   ],
   "source": [
    "VT.dot(U.T)"
   ]
  },
  {
   "cell_type": "code",
   "execution_count": 45,
   "metadata": {},
   "outputs": [
    {
     "data": {
      "text/html": [
       "<div>\n",
       "<style scoped>\n",
       "    .dataframe tbody tr th:only-of-type {\n",
       "        vertical-align: middle;\n",
       "    }\n",
       "\n",
       "    .dataframe tbody tr th {\n",
       "        vertical-align: top;\n",
       "    }\n",
       "\n",
       "    .dataframe thead th {\n",
       "        text-align: right;\n",
       "    }\n",
       "</style>\n",
       "<table border=\"1\" class=\"dataframe\">\n",
       "  <thead>\n",
       "    <tr style=\"text-align: right;\">\n",
       "      <th></th>\n",
       "      <th>0</th>\n",
       "      <th>1</th>\n",
       "      <th>2</th>\n",
       "      <th>3</th>\n",
       "    </tr>\n",
       "  </thead>\n",
       "  <tbody>\n",
       "    <tr>\n",
       "      <th>0</th>\n",
       "      <td>-1.600539</td>\n",
       "      <td>-0.599598</td>\n",
       "      <td>-0.302755</td>\n",
       "      <td>-0.537055</td>\n",
       "    </tr>\n",
       "    <tr>\n",
       "      <th>1</th>\n",
       "      <td>-0.982538</td>\n",
       "      <td>1.139690</td>\n",
       "      <td>-0.304854</td>\n",
       "      <td>0.194295</td>\n",
       "    </tr>\n",
       "    <tr>\n",
       "      <th>2</th>\n",
       "      <td>-1.082733</td>\n",
       "      <td>0.152967</td>\n",
       "      <td>0.659135</td>\n",
       "      <td>-0.281760</td>\n",
       "    </tr>\n",
       "    <tr>\n",
       "      <th>3</th>\n",
       "      <td>-1.190304</td>\n",
       "      <td>0.266253</td>\n",
       "      <td>0.858220</td>\n",
       "      <td>0.137861</td>\n",
       "    </tr>\n",
       "    <tr>\n",
       "      <th>4</th>\n",
       "      <td>-1.880069</td>\n",
       "      <td>-0.888902</td>\n",
       "      <td>-0.197522</td>\n",
       "      <td>0.781755</td>\n",
       "    </tr>\n",
       "    <tr>\n",
       "      <th>5</th>\n",
       "      <td>0.525612</td>\n",
       "      <td>1.294584</td>\n",
       "      <td>-0.762735</td>\n",
       "      <td>-0.459451</td>\n",
       "    </tr>\n",
       "    <tr>\n",
       "      <th>6</th>\n",
       "      <td>2.254158</td>\n",
       "      <td>-0.475016</td>\n",
       "      <td>1.080286</td>\n",
       "      <td>-0.357622</td>\n",
       "    </tr>\n",
       "    <tr>\n",
       "      <th>7</th>\n",
       "      <td>2.660006</td>\n",
       "      <td>0.378073</td>\n",
       "      <td>-0.087616</td>\n",
       "      <td>0.756116</td>\n",
       "    </tr>\n",
       "    <tr>\n",
       "      <th>8</th>\n",
       "      <td>1.296407</td>\n",
       "      <td>-1.268051</td>\n",
       "      <td>-0.942158</td>\n",
       "      <td>-0.234139</td>\n",
       "    </tr>\n",
       "  </tbody>\n",
       "</table>\n",
       "</div>"
      ],
      "text/plain": [
       "          0         1         2         3\n",
       "0 -1.600539 -0.599598 -0.302755 -0.537055\n",
       "1 -0.982538  1.139690 -0.304854  0.194295\n",
       "2 -1.082733  0.152967  0.659135 -0.281760\n",
       "3 -1.190304  0.266253  0.858220  0.137861\n",
       "4 -1.880069 -0.888902 -0.197522  0.781755\n",
       "5  0.525612  1.294584 -0.762735 -0.459451\n",
       "6  2.254158 -0.475016  1.080286 -0.357622\n",
       "7  2.660006  0.378073 -0.087616  0.756116\n",
       "8  1.296407 -1.268051 -0.942158 -0.234139"
      ]
     },
     "execution_count": 45,
     "metadata": {},
     "output_type": "execute_result"
    }
   ],
   "source": [
    "M1_y = M1_st.dot(VT.T)\n",
    "pd.DataFrame(M1_y)"
   ]
  },
  {
   "cell_type": "code",
   "execution_count": 46,
   "metadata": {},
   "outputs": [
    {
     "data": {
      "text/html": [
       "<div>\n",
       "<style scoped>\n",
       "    .dataframe tbody tr th:only-of-type {\n",
       "        vertical-align: middle;\n",
       "    }\n",
       "\n",
       "    .dataframe tbody tr th {\n",
       "        vertical-align: top;\n",
       "    }\n",
       "\n",
       "    .dataframe thead th {\n",
       "        text-align: right;\n",
       "    }\n",
       "</style>\n",
       "<table border=\"1\" class=\"dataframe\">\n",
       "  <thead>\n",
       "    <tr style=\"text-align: right;\">\n",
       "      <th></th>\n",
       "      <th>0</th>\n",
       "      <th>1</th>\n",
       "      <th>2</th>\n",
       "      <th>3</th>\n",
       "    </tr>\n",
       "  </thead>\n",
       "  <tbody>\n",
       "    <tr>\n",
       "      <th>0</th>\n",
       "      <td>-1.046539</td>\n",
       "      <td>-1.366374</td>\n",
       "      <td>0.403792</td>\n",
       "      <td>0.419597</td>\n",
       "    </tr>\n",
       "    <tr>\n",
       "      <th>1</th>\n",
       "      <td>0.405707</td>\n",
       "      <td>-0.341593</td>\n",
       "      <td>0.821507</td>\n",
       "      <td>1.199501</td>\n",
       "    </tr>\n",
       "    <tr>\n",
       "      <th>2</th>\n",
       "      <td>-0.922060</td>\n",
       "      <td>-0.085398</td>\n",
       "      <td>0.403792</td>\n",
       "      <td>0.830073</td>\n",
       "    </tr>\n",
       "    <tr>\n",
       "      <th>3</th>\n",
       "      <td>-0.922060</td>\n",
       "      <td>0.170797</td>\n",
       "      <td>0.821507</td>\n",
       "      <td>0.830073</td>\n",
       "    </tr>\n",
       "    <tr>\n",
       "      <th>4</th>\n",
       "      <td>-1.046539</td>\n",
       "      <td>-1.110179</td>\n",
       "      <td>1.615167</td>\n",
       "      <td>-0.196116</td>\n",
       "    </tr>\n",
       "    <tr>\n",
       "      <th>5</th>\n",
       "      <td>1.318546</td>\n",
       "      <td>-0.085398</td>\n",
       "      <td>-0.556954</td>\n",
       "      <td>0.830073</td>\n",
       "    </tr>\n",
       "    <tr>\n",
       "      <th>6</th>\n",
       "      <td>0.032272</td>\n",
       "      <td>1.707967</td>\n",
       "      <td>-1.601243</td>\n",
       "      <td>-1.058115</td>\n",
       "    </tr>\n",
       "    <tr>\n",
       "      <th>7</th>\n",
       "      <td>1.733474</td>\n",
       "      <td>1.605489</td>\n",
       "      <td>-0.849355</td>\n",
       "      <td>-1.222305</td>\n",
       "    </tr>\n",
       "    <tr>\n",
       "      <th>8</th>\n",
       "      <td>0.447199</td>\n",
       "      <td>-0.495311</td>\n",
       "      <td>-1.058213</td>\n",
       "      <td>-1.632781</td>\n",
       "    </tr>\n",
       "  </tbody>\n",
       "</table>\n",
       "</div>"
      ],
      "text/plain": [
       "          0         1         2         3\n",
       "0 -1.046539 -1.366374  0.403792  0.419597\n",
       "1  0.405707 -0.341593  0.821507  1.199501\n",
       "2 -0.922060 -0.085398  0.403792  0.830073\n",
       "3 -0.922060  0.170797  0.821507  0.830073\n",
       "4 -1.046539 -1.110179  1.615167 -0.196116\n",
       "5  1.318546 -0.085398 -0.556954  0.830073\n",
       "6  0.032272  1.707967 -1.601243 -1.058115\n",
       "7  1.733474  1.605489 -0.849355 -1.222305\n",
       "8  0.447199 -0.495311 -1.058213 -1.632781"
      ]
     },
     "execution_count": 46,
     "metadata": {},
     "output_type": "execute_result"
    }
   ],
   "source": [
    "M1_cleared = VT.T.dot(M1_y.T).T\n",
    "pd.DataFrame(M1_cleared)"
   ]
  },
  {
   "cell_type": "code",
   "execution_count": 47,
   "metadata": {},
   "outputs": [
    {
     "data": {
      "text/html": [
       "<div>\n",
       "<style scoped>\n",
       "    .dataframe tbody tr th:only-of-type {\n",
       "        vertical-align: middle;\n",
       "    }\n",
       "\n",
       "    .dataframe tbody tr th {\n",
       "        vertical-align: top;\n",
       "    }\n",
       "\n",
       "    .dataframe thead th {\n",
       "        text-align: right;\n",
       "    }\n",
       "</style>\n",
       "<table border=\"1\" class=\"dataframe\">\n",
       "  <thead>\n",
       "    <tr style=\"text-align: right;\">\n",
       "      <th></th>\n",
       "      <th>0</th>\n",
       "      <th>1</th>\n",
       "      <th>2</th>\n",
       "    </tr>\n",
       "  </thead>\n",
       "  <tbody>\n",
       "    <tr>\n",
       "      <th>0</th>\n",
       "      <td>-1.600539</td>\n",
       "      <td>-0.599598</td>\n",
       "      <td>-0.302755</td>\n",
       "    </tr>\n",
       "    <tr>\n",
       "      <th>1</th>\n",
       "      <td>-0.982538</td>\n",
       "      <td>1.139690</td>\n",
       "      <td>-0.304854</td>\n",
       "    </tr>\n",
       "    <tr>\n",
       "      <th>2</th>\n",
       "      <td>-1.082733</td>\n",
       "      <td>0.152967</td>\n",
       "      <td>0.659135</td>\n",
       "    </tr>\n",
       "    <tr>\n",
       "      <th>3</th>\n",
       "      <td>-1.190304</td>\n",
       "      <td>0.266253</td>\n",
       "      <td>0.858220</td>\n",
       "    </tr>\n",
       "    <tr>\n",
       "      <th>4</th>\n",
       "      <td>-1.880069</td>\n",
       "      <td>-0.888902</td>\n",
       "      <td>-0.197522</td>\n",
       "    </tr>\n",
       "    <tr>\n",
       "      <th>5</th>\n",
       "      <td>0.525612</td>\n",
       "      <td>1.294584</td>\n",
       "      <td>-0.762735</td>\n",
       "    </tr>\n",
       "    <tr>\n",
       "      <th>6</th>\n",
       "      <td>2.254158</td>\n",
       "      <td>-0.475016</td>\n",
       "      <td>1.080286</td>\n",
       "    </tr>\n",
       "    <tr>\n",
       "      <th>7</th>\n",
       "      <td>2.660006</td>\n",
       "      <td>0.378073</td>\n",
       "      <td>-0.087616</td>\n",
       "    </tr>\n",
       "    <tr>\n",
       "      <th>8</th>\n",
       "      <td>1.296407</td>\n",
       "      <td>-1.268051</td>\n",
       "      <td>-0.942158</td>\n",
       "    </tr>\n",
       "  </tbody>\n",
       "</table>\n",
       "</div>"
      ],
      "text/plain": [
       "          0         1         2\n",
       "0 -1.600539 -0.599598 -0.302755\n",
       "1 -0.982538  1.139690 -0.304854\n",
       "2 -1.082733  0.152967  0.659135\n",
       "3 -1.190304  0.266253  0.858220\n",
       "4 -1.880069 -0.888902 -0.197522\n",
       "5  0.525612  1.294584 -0.762735\n",
       "6  2.254158 -0.475016  1.080286\n",
       "7  2.660006  0.378073 -0.087616\n",
       "8  1.296407 -1.268051 -0.942158"
      ]
     },
     "execution_count": 47,
     "metadata": {},
     "output_type": "execute_result"
    }
   ],
   "source": [
    "M1_y_90 = M1_st.dot(VT[:3].T)\n",
    "pd.DataFrame(M1_y_90)"
   ]
  },
  {
   "cell_type": "code",
   "execution_count": 48,
   "metadata": {},
   "outputs": [
    {
     "data": {
      "text/html": [
       "<div>\n",
       "<style scoped>\n",
       "    .dataframe tbody tr th:only-of-type {\n",
       "        vertical-align: middle;\n",
       "    }\n",
       "\n",
       "    .dataframe tbody tr th {\n",
       "        vertical-align: top;\n",
       "    }\n",
       "\n",
       "    .dataframe thead th {\n",
       "        text-align: right;\n",
       "    }\n",
       "</style>\n",
       "<table border=\"1\" class=\"dataframe\">\n",
       "  <thead>\n",
       "    <tr style=\"text-align: right;\">\n",
       "      <th></th>\n",
       "      <th>0</th>\n",
       "      <th>1</th>\n",
       "      <th>2</th>\n",
       "      <th>3</th>\n",
       "    </tr>\n",
       "  </thead>\n",
       "  <tbody>\n",
       "    <tr>\n",
       "      <th>0</th>\n",
       "      <td>-0.900530</td>\n",
       "      <td>-1.203880</td>\n",
       "      <td>0.843635</td>\n",
       "      <td>0.202243</td>\n",
       "    </tr>\n",
       "    <tr>\n",
       "      <th>1</th>\n",
       "      <td>0.352884</td>\n",
       "      <td>-0.400380</td>\n",
       "      <td>0.662382</td>\n",
       "      <td>1.278135</td>\n",
       "    </tr>\n",
       "    <tr>\n",
       "      <th>2</th>\n",
       "      <td>-0.845459</td>\n",
       "      <td>-0.000147</td>\n",
       "      <td>0.634551</td>\n",
       "      <td>0.716040</td>\n",
       "    </tr>\n",
       "    <tr>\n",
       "      <th>3</th>\n",
       "      <td>-0.959541</td>\n",
       "      <td>0.129085</td>\n",
       "      <td>0.708600</td>\n",
       "      <td>0.885867</td>\n",
       "    </tr>\n",
       "    <tr>\n",
       "      <th>4</th>\n",
       "      <td>-1.259074</td>\n",
       "      <td>-1.346711</td>\n",
       "      <td>0.974916</td>\n",
       "      <td>0.120273</td>\n",
       "    </tr>\n",
       "    <tr>\n",
       "      <th>5</th>\n",
       "      <td>1.443457</td>\n",
       "      <td>0.053616</td>\n",
       "      <td>-0.180668</td>\n",
       "      <td>0.644126</td>\n",
       "    </tr>\n",
       "    <tr>\n",
       "      <th>6</th>\n",
       "      <td>0.129498</td>\n",
       "      <td>1.816172</td>\n",
       "      <td>-1.308353</td>\n",
       "      <td>-1.202850</td>\n",
       "    </tr>\n",
       "    <tr>\n",
       "      <th>7</th>\n",
       "      <td>1.527909</td>\n",
       "      <td>1.376715</td>\n",
       "      <td>-1.468607</td>\n",
       "      <td>-0.916293</td>\n",
       "    </tr>\n",
       "    <tr>\n",
       "      <th>8</th>\n",
       "      <td>0.510854</td>\n",
       "      <td>-0.424468</td>\n",
       "      <td>-0.866455</td>\n",
       "      <td>-1.727540</td>\n",
       "    </tr>\n",
       "  </tbody>\n",
       "</table>\n",
       "</div>"
      ],
      "text/plain": [
       "          0         1         2         3\n",
       "0 -0.900530 -1.203880  0.843635  0.202243\n",
       "1  0.352884 -0.400380  0.662382  1.278135\n",
       "2 -0.845459 -0.000147  0.634551  0.716040\n",
       "3 -0.959541  0.129085  0.708600  0.885867\n",
       "4 -1.259074 -1.346711  0.974916  0.120273\n",
       "5  1.443457  0.053616 -0.180668  0.644126\n",
       "6  0.129498  1.816172 -1.308353 -1.202850\n",
       "7  1.527909  1.376715 -1.468607 -0.916293\n",
       "8  0.510854 -0.424468 -0.866455 -1.727540"
      ]
     },
     "execution_count": 48,
     "metadata": {},
     "output_type": "execute_result"
    }
   ],
   "source": [
    "M1_cleared_90 = VT.T[:,:3].dot(M1_y_90.T).T\n",
    "pd.DataFrame(M1_cleared_90)"
   ]
  },
  {
   "cell_type": "markdown",
   "metadata": {},
   "source": [
    "#### Аналогично для М2"
   ]
  },
  {
   "cell_type": "code",
   "execution_count": 49,
   "metadata": {},
   "outputs": [
    {
     "data": {
      "text/html": [
       "<div>\n",
       "<style scoped>\n",
       "    .dataframe tbody tr th:only-of-type {\n",
       "        vertical-align: middle;\n",
       "    }\n",
       "\n",
       "    .dataframe tbody tr th {\n",
       "        vertical-align: top;\n",
       "    }\n",
       "\n",
       "    .dataframe thead th {\n",
       "        text-align: right;\n",
       "    }\n",
       "</style>\n",
       "<table border=\"1\" class=\"dataframe\">\n",
       "  <thead>\n",
       "    <tr style=\"text-align: right;\">\n",
       "      <th></th>\n",
       "      <th>0</th>\n",
       "      <th>1</th>\n",
       "      <th>2</th>\n",
       "      <th>3</th>\n",
       "    </tr>\n",
       "  </thead>\n",
       "  <tbody>\n",
       "    <tr>\n",
       "      <th>0</th>\n",
       "      <td>-0.571290</td>\n",
       "      <td>-0.346375</td>\n",
       "      <td>-0.551046</td>\n",
       "      <td>0.5</td>\n",
       "    </tr>\n",
       "    <tr>\n",
       "      <th>1</th>\n",
       "      <td>0.650301</td>\n",
       "      <td>-0.557048</td>\n",
       "      <td>0.129639</td>\n",
       "      <td>0.5</td>\n",
       "    </tr>\n",
       "    <tr>\n",
       "      <th>2</th>\n",
       "      <td>0.312357</td>\n",
       "      <td>0.735996</td>\n",
       "      <td>-0.332781</td>\n",
       "      <td>0.5</td>\n",
       "    </tr>\n",
       "    <tr>\n",
       "      <th>3</th>\n",
       "      <td>-0.391368</td>\n",
       "      <td>0.167427</td>\n",
       "      <td>0.754188</td>\n",
       "      <td>0.5</td>\n",
       "    </tr>\n",
       "  </tbody>\n",
       "</table>\n",
       "</div>"
      ],
      "text/plain": [
       "          0         1         2    3\n",
       "0 -0.571290 -0.346375 -0.551046  0.5\n",
       "1  0.650301 -0.557048  0.129639  0.5\n",
       "2  0.312357  0.735996 -0.332781  0.5\n",
       "3 -0.391368  0.167427  0.754188  0.5"
      ]
     },
     "execution_count": 49,
     "metadata": {},
     "output_type": "execute_result"
    }
   ],
   "source": [
    "U,S,VT = np.linalg.svd(M2_st,full_matrices=False)\n",
    "pd.DataFrame(U)"
   ]
  },
  {
   "cell_type": "code",
   "execution_count": 50,
   "metadata": {},
   "outputs": [
    {
     "data": {
      "text/html": [
       "<div>\n",
       "<style scoped>\n",
       "    .dataframe tbody tr th:only-of-type {\n",
       "        vertical-align: middle;\n",
       "    }\n",
       "\n",
       "    .dataframe tbody tr th {\n",
       "        vertical-align: top;\n",
       "    }\n",
       "\n",
       "    .dataframe thead th {\n",
       "        text-align: right;\n",
       "    }\n",
       "</style>\n",
       "<table border=\"1\" class=\"dataframe\">\n",
       "  <thead>\n",
       "    <tr style=\"text-align: right;\">\n",
       "      <th></th>\n",
       "      <th>0</th>\n",
       "      <th>1</th>\n",
       "      <th>2</th>\n",
       "      <th>3</th>\n",
       "      <th>4</th>\n",
       "      <th>5</th>\n",
       "      <th>6</th>\n",
       "      <th>7</th>\n",
       "      <th>8</th>\n",
       "    </tr>\n",
       "  </thead>\n",
       "  <tbody>\n",
       "    <tr>\n",
       "      <th>0</th>\n",
       "      <td>1.333333</td>\n",
       "      <td>1.180434</td>\n",
       "      <td>-0.737313</td>\n",
       "      <td>-1.283397</td>\n",
       "      <td>-1.272813</td>\n",
       "      <td>0.534170</td>\n",
       "      <td>0.699750</td>\n",
       "      <td>-0.128925</td>\n",
       "      <td>1.297608</td>\n",
       "    </tr>\n",
       "    <tr>\n",
       "      <th>1</th>\n",
       "      <td>1.180434</td>\n",
       "      <td>1.333333</td>\n",
       "      <td>-1.038482</td>\n",
       "      <td>-1.191671</td>\n",
       "      <td>-0.944355</td>\n",
       "      <td>0.840900</td>\n",
       "      <td>0.202981</td>\n",
       "      <td>-0.677030</td>\n",
       "      <td>1.180921</td>\n",
       "    </tr>\n",
       "    <tr>\n",
       "      <th>2</th>\n",
       "      <td>-0.737313</td>\n",
       "      <td>-1.038482</td>\n",
       "      <td>1.333333</td>\n",
       "      <td>0.973005</td>\n",
       "      <td>0.426056</td>\n",
       "      <td>-1.303526</td>\n",
       "      <td>-0.215814</td>\n",
       "      <td>0.523158</td>\n",
       "      <td>-0.594998</td>\n",
       "    </tr>\n",
       "    <tr>\n",
       "      <th>3</th>\n",
       "      <td>-1.283397</td>\n",
       "      <td>-1.191671</td>\n",
       "      <td>0.973005</td>\n",
       "      <td>1.333333</td>\n",
       "      <td>1.174525</td>\n",
       "      <td>-0.823132</td>\n",
       "      <td>-0.771785</td>\n",
       "      <td>0.093208</td>\n",
       "      <td>-1.178738</td>\n",
       "    </tr>\n",
       "    <tr>\n",
       "      <th>4</th>\n",
       "      <td>-1.272813</td>\n",
       "      <td>-0.944355</td>\n",
       "      <td>0.426056</td>\n",
       "      <td>1.174525</td>\n",
       "      <td>1.333333</td>\n",
       "      <td>-0.234646</td>\n",
       "      <td>-0.900003</td>\n",
       "      <td>-0.208566</td>\n",
       "      <td>-1.231956</td>\n",
       "    </tr>\n",
       "    <tr>\n",
       "      <th>5</th>\n",
       "      <td>0.534170</td>\n",
       "      <td>0.840900</td>\n",
       "      <td>-1.303526</td>\n",
       "      <td>-0.823132</td>\n",
       "      <td>-0.234646</td>\n",
       "      <td>1.333333</td>\n",
       "      <td>0.235045</td>\n",
       "      <td>-0.390693</td>\n",
       "      <td>0.352368</td>\n",
       "    </tr>\n",
       "    <tr>\n",
       "      <th>6</th>\n",
       "      <td>0.699750</td>\n",
       "      <td>0.202981</td>\n",
       "      <td>-0.215814</td>\n",
       "      <td>-0.771785</td>\n",
       "      <td>-0.900003</td>\n",
       "      <td>0.235045</td>\n",
       "      <td>1.333333</td>\n",
       "      <td>1.029865</td>\n",
       "      <td>0.478474</td>\n",
       "    </tr>\n",
       "    <tr>\n",
       "      <th>7</th>\n",
       "      <td>-0.128925</td>\n",
       "      <td>-0.677030</td>\n",
       "      <td>0.523158</td>\n",
       "      <td>0.093208</td>\n",
       "      <td>-0.208566</td>\n",
       "      <td>-0.390693</td>\n",
       "      <td>1.029865</td>\n",
       "      <td>1.333333</td>\n",
       "      <td>-0.309992</td>\n",
       "    </tr>\n",
       "    <tr>\n",
       "      <th>8</th>\n",
       "      <td>1.297608</td>\n",
       "      <td>1.180921</td>\n",
       "      <td>-0.594998</td>\n",
       "      <td>-1.178738</td>\n",
       "      <td>-1.231956</td>\n",
       "      <td>0.352368</td>\n",
       "      <td>0.478474</td>\n",
       "      <td>-0.309992</td>\n",
       "      <td>1.333333</td>\n",
       "    </tr>\n",
       "  </tbody>\n",
       "</table>\n",
       "</div>"
      ],
      "text/plain": [
       "          0         1         2         3         4         5         6  \\\n",
       "0  1.333333  1.180434 -0.737313 -1.283397 -1.272813  0.534170  0.699750   \n",
       "1  1.180434  1.333333 -1.038482 -1.191671 -0.944355  0.840900  0.202981   \n",
       "2 -0.737313 -1.038482  1.333333  0.973005  0.426056 -1.303526 -0.215814   \n",
       "3 -1.283397 -1.191671  0.973005  1.333333  1.174525 -0.823132 -0.771785   \n",
       "4 -1.272813 -0.944355  0.426056  1.174525  1.333333 -0.234646 -0.900003   \n",
       "5  0.534170  0.840900 -1.303526 -0.823132 -0.234646  1.333333  0.235045   \n",
       "6  0.699750  0.202981 -0.215814 -0.771785 -0.900003  0.235045  1.333333   \n",
       "7 -0.128925 -0.677030  0.523158  0.093208 -0.208566 -0.390693  1.029865   \n",
       "8  1.297608  1.180921 -0.594998 -1.178738 -1.231956  0.352368  0.478474   \n",
       "\n",
       "          7         8  \n",
       "0 -0.128925  1.297608  \n",
       "1 -0.677030  1.180921  \n",
       "2  0.523158 -0.594998  \n",
       "3  0.093208 -1.178738  \n",
       "4 -0.208566 -1.231956  \n",
       "5 -0.390693  0.352368  \n",
       "6  1.029865  0.478474  \n",
       "7  1.333333 -0.309992  \n",
       "8 -0.309992  1.333333  "
      ]
     },
     "execution_count": 50,
     "metadata": {},
     "output_type": "execute_result"
    }
   ],
   "source": [
    "VT # eigenvectors\n",
    "l_svd = S**2 / (M1_st.shape[0]-1) # eigenvalues\n",
    "(l_svd/l_svd.sum()).cumsum()\n",
    "S_V = np.diag(S)\n",
    "C2_svd = VT.T.dot((S_V**2)).dot(VT) / (M2_st.shape[0]-1) # covarience matrix\n",
    "pd.DataFrame(C2_svd)"
   ]
  },
  {
   "cell_type": "code",
   "execution_count": 51,
   "metadata": {},
   "outputs": [
    {
     "data": {
      "text/html": [
       "<div>\n",
       "<style scoped>\n",
       "    .dataframe tbody tr th:only-of-type {\n",
       "        vertical-align: middle;\n",
       "    }\n",
       "\n",
       "    .dataframe tbody tr th {\n",
       "        vertical-align: top;\n",
       "    }\n",
       "\n",
       "    .dataframe thead th {\n",
       "        text-align: right;\n",
       "    }\n",
       "</style>\n",
       "<table border=\"1\" class=\"dataframe\">\n",
       "  <thead>\n",
       "    <tr style=\"text-align: right;\">\n",
       "      <th></th>\n",
       "      <th>0</th>\n",
       "      <th>1</th>\n",
       "      <th>2</th>\n",
       "      <th>3</th>\n",
       "    </tr>\n",
       "  </thead>\n",
       "  <tbody>\n",
       "    <tr>\n",
       "      <th>0</th>\n",
       "      <td>-2.699612</td>\n",
       "      <td>-1.033527</td>\n",
       "      <td>-1.203087</td>\n",
       "      <td>-2.014679e-16</td>\n",
       "    </tr>\n",
       "    <tr>\n",
       "      <th>1</th>\n",
       "      <td>3.072974</td>\n",
       "      <td>-1.662140</td>\n",
       "      <td>0.283037</td>\n",
       "      <td>1.634470e-15</td>\n",
       "    </tr>\n",
       "    <tr>\n",
       "      <th>2</th>\n",
       "      <td>1.476032</td>\n",
       "      <td>2.196092</td>\n",
       "      <td>-0.726553</td>\n",
       "      <td>-1.862733e-15</td>\n",
       "    </tr>\n",
       "    <tr>\n",
       "      <th>3</th>\n",
       "      <td>-1.849394</td>\n",
       "      <td>0.499575</td>\n",
       "      <td>1.646603</td>\n",
       "      <td>1.428932e-15</td>\n",
       "    </tr>\n",
       "  </tbody>\n",
       "</table>\n",
       "</div>"
      ],
      "text/plain": [
       "          0         1         2             3\n",
       "0 -2.699612 -1.033527 -1.203087 -2.014679e-16\n",
       "1  3.072974 -1.662140  0.283037  1.634470e-15\n",
       "2  1.476032  2.196092 -0.726553 -1.862733e-15\n",
       "3 -1.849394  0.499575  1.646603  1.428932e-15"
      ]
     },
     "execution_count": 51,
     "metadata": {},
     "output_type": "execute_result"
    }
   ],
   "source": [
    "M2_y = M2_st.dot(VT.T)\n",
    "pd.DataFrame(M2_y)"
   ]
  },
  {
   "cell_type": "code",
   "execution_count": 52,
   "metadata": {},
   "outputs": [
    {
     "data": {
      "text/html": [
       "<div>\n",
       "<style scoped>\n",
       "    .dataframe tbody tr th:only-of-type {\n",
       "        vertical-align: middle;\n",
       "    }\n",
       "\n",
       "    .dataframe tbody tr th {\n",
       "        vertical-align: top;\n",
       "    }\n",
       "\n",
       "    .dataframe thead th {\n",
       "        text-align: right;\n",
       "    }\n",
       "</style>\n",
       "<table border=\"1\" class=\"dataframe\">\n",
       "  <thead>\n",
       "    <tr style=\"text-align: right;\">\n",
       "      <th></th>\n",
       "      <th>0</th>\n",
       "      <th>1</th>\n",
       "      <th>2</th>\n",
       "      <th>3</th>\n",
       "      <th>4</th>\n",
       "      <th>5</th>\n",
       "      <th>6</th>\n",
       "      <th>7</th>\n",
       "      <th>8</th>\n",
       "    </tr>\n",
       "  </thead>\n",
       "  <tbody>\n",
       "    <tr>\n",
       "      <th>0</th>\n",
       "      <td>-0.999874</td>\n",
       "      <td>-0.687243</td>\n",
       "      <td>1.035436</td>\n",
       "      <td>1.269526</td>\n",
       "      <td>1.018505</td>\n",
       "      <td>-1.089228</td>\n",
       "      <td>-1.515720</td>\n",
       "      <td>-0.839879</td>\n",
       "      <td>-0.648886</td>\n",
       "    </tr>\n",
       "    <tr>\n",
       "      <th>1</th>\n",
       "      <td>1.022343</td>\n",
       "      <td>1.527207</td>\n",
       "      <td>-1.622698</td>\n",
       "      <td>-1.207598</td>\n",
       "      <td>-0.563639</td>\n",
       "      <td>1.487033</td>\n",
       "      <td>-0.150207</td>\n",
       "      <td>-1.148092</td>\n",
       "      <td>0.973329</td>\n",
       "    </tr>\n",
       "    <tr>\n",
       "      <th>2</th>\n",
       "      <td>0.977405</td>\n",
       "      <td>0.229081</td>\n",
       "      <td>0.540899</td>\n",
       "      <td>-0.712173</td>\n",
       "      <td>-1.354710</td>\n",
       "      <td>-0.710366</td>\n",
       "      <td>1.215307</td>\n",
       "      <td>0.978575</td>\n",
       "      <td>0.973329</td>\n",
       "    </tr>\n",
       "    <tr>\n",
       "      <th>3</th>\n",
       "      <td>-0.999874</td>\n",
       "      <td>-1.069045</td>\n",
       "      <td>0.046363</td>\n",
       "      <td>0.650245</td>\n",
       "      <td>0.899844</td>\n",
       "      <td>0.312561</td>\n",
       "      <td>0.450620</td>\n",
       "      <td>1.009396</td>\n",
       "      <td>-1.297771</td>\n",
       "    </tr>\n",
       "  </tbody>\n",
       "</table>\n",
       "</div>"
      ],
      "text/plain": [
       "          0         1         2         3         4         5         6  \\\n",
       "0 -0.999874 -0.687243  1.035436  1.269526  1.018505 -1.089228 -1.515720   \n",
       "1  1.022343  1.527207 -1.622698 -1.207598 -0.563639  1.487033 -0.150207   \n",
       "2  0.977405  0.229081  0.540899 -0.712173 -1.354710 -0.710366  1.215307   \n",
       "3 -0.999874 -1.069045  0.046363  0.650245  0.899844  0.312561  0.450620   \n",
       "\n",
       "          7         8  \n",
       "0 -0.839879 -0.648886  \n",
       "1 -1.148092  0.973329  \n",
       "2  0.978575  0.973329  \n",
       "3  1.009396 -1.297771  "
      ]
     },
     "execution_count": 52,
     "metadata": {},
     "output_type": "execute_result"
    }
   ],
   "source": [
    "M2_cleared = VT.T.dot(M2_y.T).T\n",
    "pd.DataFrame(M2_cleared)"
   ]
  },
  {
   "cell_type": "code",
   "execution_count": 53,
   "metadata": {},
   "outputs": [
    {
     "data": {
      "text/html": [
       "<div>\n",
       "<style scoped>\n",
       "    .dataframe tbody tr th:only-of-type {\n",
       "        vertical-align: middle;\n",
       "    }\n",
       "\n",
       "    .dataframe tbody tr th {\n",
       "        vertical-align: top;\n",
       "    }\n",
       "\n",
       "    .dataframe thead th {\n",
       "        text-align: right;\n",
       "    }\n",
       "</style>\n",
       "<table border=\"1\" class=\"dataframe\">\n",
       "  <thead>\n",
       "    <tr style=\"text-align: right;\">\n",
       "      <th></th>\n",
       "      <th>0</th>\n",
       "      <th>1</th>\n",
       "      <th>2</th>\n",
       "    </tr>\n",
       "  </thead>\n",
       "  <tbody>\n",
       "    <tr>\n",
       "      <th>0</th>\n",
       "      <td>-2.699612</td>\n",
       "      <td>-1.033527</td>\n",
       "      <td>-1.203087</td>\n",
       "    </tr>\n",
       "    <tr>\n",
       "      <th>1</th>\n",
       "      <td>3.072974</td>\n",
       "      <td>-1.662140</td>\n",
       "      <td>0.283037</td>\n",
       "    </tr>\n",
       "    <tr>\n",
       "      <th>2</th>\n",
       "      <td>1.476032</td>\n",
       "      <td>2.196092</td>\n",
       "      <td>-0.726553</td>\n",
       "    </tr>\n",
       "    <tr>\n",
       "      <th>3</th>\n",
       "      <td>-1.849394</td>\n",
       "      <td>0.499575</td>\n",
       "      <td>1.646603</td>\n",
       "    </tr>\n",
       "  </tbody>\n",
       "</table>\n",
       "</div>"
      ],
      "text/plain": [
       "          0         1         2\n",
       "0 -2.699612 -1.033527 -1.203087\n",
       "1  3.072974 -1.662140  0.283037\n",
       "2  1.476032  2.196092 -0.726553\n",
       "3 -1.849394  0.499575  1.646603"
      ]
     },
     "execution_count": 53,
     "metadata": {},
     "output_type": "execute_result"
    }
   ],
   "source": [
    "M2_y_90 = M2_st.dot(VT[:3].T)\n",
    "pd.DataFrame(M2_y_90)\n"
   ]
  },
  {
   "cell_type": "code",
   "execution_count": 54,
   "metadata": {},
   "outputs": [
    {
     "data": {
      "text/html": [
       "<div>\n",
       "<style scoped>\n",
       "    .dataframe tbody tr th:only-of-type {\n",
       "        vertical-align: middle;\n",
       "    }\n",
       "\n",
       "    .dataframe tbody tr th {\n",
       "        vertical-align: top;\n",
       "    }\n",
       "\n",
       "    .dataframe thead th {\n",
       "        text-align: right;\n",
       "    }\n",
       "</style>\n",
       "<table border=\"1\" class=\"dataframe\">\n",
       "  <thead>\n",
       "    <tr style=\"text-align: right;\">\n",
       "      <th></th>\n",
       "      <th>0</th>\n",
       "      <th>1</th>\n",
       "      <th>2</th>\n",
       "      <th>3</th>\n",
       "      <th>4</th>\n",
       "      <th>5</th>\n",
       "      <th>6</th>\n",
       "      <th>7</th>\n",
       "      <th>8</th>\n",
       "    </tr>\n",
       "  </thead>\n",
       "  <tbody>\n",
       "    <tr>\n",
       "      <th>0</th>\n",
       "      <td>-0.999874</td>\n",
       "      <td>-0.687243</td>\n",
       "      <td>1.035436</td>\n",
       "      <td>1.269526</td>\n",
       "      <td>1.018505</td>\n",
       "      <td>-1.089228</td>\n",
       "      <td>-1.515720</td>\n",
       "      <td>-0.839879</td>\n",
       "      <td>-0.648886</td>\n",
       "    </tr>\n",
       "    <tr>\n",
       "      <th>1</th>\n",
       "      <td>1.022343</td>\n",
       "      <td>1.527207</td>\n",
       "      <td>-1.622698</td>\n",
       "      <td>-1.207598</td>\n",
       "      <td>-0.563639</td>\n",
       "      <td>1.487033</td>\n",
       "      <td>-0.150207</td>\n",
       "      <td>-1.148092</td>\n",
       "      <td>0.973329</td>\n",
       "    </tr>\n",
       "    <tr>\n",
       "      <th>2</th>\n",
       "      <td>0.977405</td>\n",
       "      <td>0.229081</td>\n",
       "      <td>0.540899</td>\n",
       "      <td>-0.712173</td>\n",
       "      <td>-1.354710</td>\n",
       "      <td>-0.710366</td>\n",
       "      <td>1.215307</td>\n",
       "      <td>0.978575</td>\n",
       "      <td>0.973329</td>\n",
       "    </tr>\n",
       "    <tr>\n",
       "      <th>3</th>\n",
       "      <td>-0.999874</td>\n",
       "      <td>-1.069045</td>\n",
       "      <td>0.046363</td>\n",
       "      <td>0.650245</td>\n",
       "      <td>0.899844</td>\n",
       "      <td>0.312561</td>\n",
       "      <td>0.450620</td>\n",
       "      <td>1.009396</td>\n",
       "      <td>-1.297771</td>\n",
       "    </tr>\n",
       "  </tbody>\n",
       "</table>\n",
       "</div>"
      ],
      "text/plain": [
       "          0         1         2         3         4         5         6  \\\n",
       "0 -0.999874 -0.687243  1.035436  1.269526  1.018505 -1.089228 -1.515720   \n",
       "1  1.022343  1.527207 -1.622698 -1.207598 -0.563639  1.487033 -0.150207   \n",
       "2  0.977405  0.229081  0.540899 -0.712173 -1.354710 -0.710366  1.215307   \n",
       "3 -0.999874 -1.069045  0.046363  0.650245  0.899844  0.312561  0.450620   \n",
       "\n",
       "          7         8  \n",
       "0 -0.839879 -0.648886  \n",
       "1 -1.148092  0.973329  \n",
       "2  0.978575  0.973329  \n",
       "3  1.009396 -1.297771  "
      ]
     },
     "execution_count": 54,
     "metadata": {},
     "output_type": "execute_result"
    }
   ],
   "source": [
    "M2_cleared_90 = VT.T[:,:3].dot(M2_y_90.T).T\n",
    "pd.DataFrame(M2_cleared_90)"
   ]
  }
 ],
 "metadata": {
  "colab": {
   "authorship_tag": "ABX9TyMat6lLCfU0xUokBEV/gJCE",
   "provenance": [
    {
     "file_id": "18ne0flIVkRSyLj3i8qQoiB1T8aLCGzyc",
     "timestamp": 1698343686488
    }
   ]
  },
  "kernelspec": {
   "display_name": "Python 3 (ipykernel)",
   "language": "python",
   "name": "python3"
  },
  "language_info": {
   "codemirror_mode": {
    "name": "ipython",
    "version": 3
   },
   "file_extension": ".py",
   "mimetype": "text/x-python",
   "name": "python",
   "nbconvert_exporter": "python",
   "pygments_lexer": "ipython3",
   "version": "3.12.2"
  }
 },
 "nbformat": 4,
 "nbformat_minor": 4
}
